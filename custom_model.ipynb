{
 "cells": [
  {
   "cell_type": "code",
   "execution_count": 1,
   "metadata": {},
   "outputs": [
    {
     "name": "stderr",
     "output_type": "stream",
     "text": [
      "/Users/alexgiving/Documents/PythonProjects/text_classification/venv/lib/python3.10/site-packages/tqdm/auto.py:21: TqdmWarning: IProgress not found. Please update jupyter and ipywidgets. See https://ipywidgets.readthedocs.io/en/stable/user_install.html\n",
      "  from .autonotebook import tqdm as notebook_tqdm\n"
     ]
    }
   ],
   "source": [
    "from pathlib import Path\n",
    "\n",
    "import pandas as pd\n",
    "import torch\n",
    "from datasets import Dataset\n",
    "from torch.utils.data import DataLoader\n",
    "from torcheval.metrics.functional import multiclass_f1_score\n",
    "\n",
    "from src.common import get_device\n",
    "from src.dataset import (collate_fn, load_dataset, make_vectorizer,\n",
    "                         remove_stop_words, remove_symbols, rename_columns,\n",
    "                         split, tokenize)\n",
    "from src.model import LSTM, Linear\n",
    "from src.trainer import Trainer"
   ]
  },
  {
   "cell_type": "code",
   "execution_count": 2,
   "metadata": {},
   "outputs": [],
   "source": [
    "device = get_device()"
   ]
  },
  {
   "cell_type": "code",
   "execution_count": 3,
   "metadata": {},
   "outputs": [],
   "source": [
    "dataset_path = Path('data/train.csv')\n",
    "submission_data_path = Path('data/test.csv')\n",
    "submission_path = Path('submission.csv')\n",
    "\n",
    "dataset = load_dataset(dataset_path)\n",
    "submission_dataset = load_dataset(submission_data_path)\n",
    "\n",
    "dataset = remove_stop_words(dataset)\n",
    "submission_dataset = remove_stop_words(submission_dataset)\n",
    "\n",
    "dataset = remove_symbols(dataset)\n",
    "submission_dataset = remove_symbols(submission_dataset)\n",
    "\n",
    "vectorizer = make_vectorizer(dataset)\n",
    "\n",
    "tokenized_dataset = tokenize(vectorizer, dataset)\n",
    "submission_dataset = tokenize(vectorizer, submission_dataset)\n",
    "\n",
    "train_dataset, test_dataset = split(tokenized_dataset)\n",
    "\n",
    "train_dataset = rename_columns(train_dataset)\n",
    "test_dataset = rename_columns(test_dataset)\n",
    "submission_dataset = rename_columns(submission_dataset)\n",
    "\n",
    "train_dataset = Dataset.from_pandas(train_dataset)\n",
    "test_dataset = Dataset.from_pandas(test_dataset)\n",
    "submission_dataset = Dataset.from_pandas(submission_dataset)"
   ]
  },
  {
   "cell_type": "code",
   "execution_count": null,
   "metadata": {},
   "outputs": [],
   "source": [
    "num_epoch = 10\n",
    "batch_size = 32\n",
    "hidden_dim = 64\n",
    "\n",
    "reducing_data = 0\n",
    "if reducing_data:\n",
    "    train_dataset = train_dataset.select(range(reducing_data))\n",
    "    test_dataset = test_dataset.select(range(reducing_data))\n",
    "    submission_dataset = submission_dataset.select(range(reducing_data))\n",
    "\n",
    "model = Linear(hidden_dim=hidden_dim, vocab_size=len(vectorizer.vocabulary_), num_classes=4)\n",
    "criterion = torch.nn.CrossEntropyLoss()\n",
    "optimizer = torch.optim.Adam(model.parameters())\n",
    "\n",
    "\n",
    "train_dataloader = DataLoader(train_dataset, shuffle=True, collate_fn=collate_fn, batch_size=batch_size)\n",
    "test_dataloader = DataLoader(test_dataset, shuffle=False, collate_fn=collate_fn, batch_size=batch_size)\n",
    "\n",
    "trainer = Trainer(model=model,\n",
    "                  criterion=criterion,\n",
    "                  optimizer=optimizer,\n",
    "                  device=device,\n",
    "                  train_dataloader=train_dataloader,\n",
    "                  test_dataloader=test_dataloader,\n",
    "                  eval_metric=multiclass_f1_score,\n",
    "                  num_epoch=num_epoch,\n",
    "                  verbose=True\n",
    "                  )\n",
    "\n",
    "trainer.train()"
   ]
  },
  {
   "cell_type": "markdown",
   "metadata": {},
   "source": [
    "## Submission code"
   ]
  },
  {
   "cell_type": "code",
   "execution_count": null,
   "metadata": {},
   "outputs": [],
   "source": [
    "best_model = trainer.best_model\n",
    "\n",
    "submission_dataloader = DataLoader(submission_dataset, shuffle=False, collate_fn=collate_fn, batch_size=batch_size)\n",
    "\n",
    "submission_evaluator= Trainer(model=best_model,\n",
    "                  criterion=criterion,\n",
    "                  device=device,\n",
    "                  test_dataloader=submission_dataloader,\n",
    "                  eval_metric=multiclass_f1_score\n",
    "                  )\n",
    "_, predictions = submission_evaluator.eval()"
   ]
  },
  {
   "cell_type": "code",
   "execution_count": null,
   "metadata": {},
   "outputs": [],
   "source": [
    "predictions = predictions.clone().detach().tolist()\n",
    "res = pd.DataFrame(list(zip(range(len(predictions)), predictions)),  columns=['Id', 'Class Index']).reset_index(drop=True)\n",
    "res.to_csv(submission_path, index=False)"
   ]
  },
  {
   "cell_type": "code",
   "execution_count": null,
   "metadata": {},
   "outputs": [],
   "source": []
  }
 ],
 "metadata": {
  "kernelspec": {
   "display_name": "venv",
   "language": "python",
   "name": "python3"
  },
  "language_info": {
   "codemirror_mode": {
    "name": "ipython",
    "version": 3
   },
   "file_extension": ".py",
   "mimetype": "text/x-python",
   "name": "python",
   "nbconvert_exporter": "python",
   "pygments_lexer": "ipython3",
   "version": "3.10.10"
  }
 },
 "nbformat": 4,
 "nbformat_minor": 2
}
