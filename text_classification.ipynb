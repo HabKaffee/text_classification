{
 "cells": [
  {
   "cell_type": "code",
   "execution_count": 1,
   "metadata": {},
   "outputs": [],
   "source": [
    "# %pip install pymorphy2\n",
    "# %pip install nltk\n",
    "# %pip install sklearn\n",
    "# %pip install wordcloud\n",
    "# %pip install stop_words"
   ]
  },
  {
   "cell_type": "code",
   "execution_count": 2,
   "metadata": {},
   "outputs": [
    {
     "name": "stderr",
     "output_type": "stream",
     "text": [
      "[nltk_data] Downloading package wordnet to\n",
      "[nltk_data]     /home/habkaffee/nltk_data...\n",
      "[nltk_data]   Package wordnet is already up-to-date!\n"
     ]
    },
    {
     "data": {
      "text/plain": [
       "True"
      ]
     },
     "execution_count": 2,
     "metadata": {},
     "output_type": "execute_result"
    }
   ],
   "source": [
    "import pandas as pd\n",
    "import numpy as np\n",
    "import matplotlib.pyplot as plt\n",
    "import re\n",
    "import string\n",
    "from scipy.sparse import *\n",
    "import stop_words\n",
    "import tqdm\n",
    "from nltk.tokenize import sent_tokenize, word_tokenize \n",
    "from sklearn.feature_extraction.text import CountVectorizer, TfidfVectorizer\n",
    "from gensim.models import Word2Vec\n",
    "\n",
    "import pickle\n",
    "\n",
    "import nltk\n",
    "nltk.download('wordnet')"
   ]
  },
  {
   "cell_type": "code",
   "execution_count": 3,
   "metadata": {},
   "outputs": [],
   "source": [
    "from sklearn.linear_model import LogisticRegression\n",
    "from sklearn.svm import LinearSVC\n",
    "from sklearn.ensemble import RandomForestClassifier, GradientBoostingClassifier\n",
    "from sklearn.neighbors import KNeighborsClassifier\n",
    "from sklearn.naive_bayes import MultinomialNB\n",
    "\n",
    "from sklearn.metrics import precision_score, accuracy_score, recall_score, f1_score\n",
    "\n",
    "from sklearn.model_selection import GridSearchCV\n",
    "\n",
    "from sklearn.model_selection import train_test_split"
   ]
  },
  {
   "cell_type": "code",
   "execution_count": 4,
   "metadata": {},
   "outputs": [],
   "source": [
    "from sklearn.metrics import confusion_matrix, ConfusionMatrixDisplay"
   ]
  },
  {
   "cell_type": "code",
   "execution_count": 5,
   "metadata": {},
   "outputs": [],
   "source": [
    "def display_conf_matrix(y_true, y_pred, Y):\n",
    "    conf_matrix = confusion_matrix(y_true, y_pred)\n",
    "    cm_display = ConfusionMatrixDisplay(conf_matrix, display_labels=Y.unique())\n",
    "    cm_display.plot()\n",
    "    plt.show()"
   ]
  },
  {
   "cell_type": "code",
   "execution_count": 6,
   "metadata": {},
   "outputs": [],
   "source": [
    "def print_grid_search_info(model):\n",
    "    print(f'Best estimator -> {model.best_estimator_}\\n\\\n",
    "Best Score -> {model.best_score_}\\n\\\n",
    "Best Parameters -> {model.best_params_}\\n\\\n",
    "Best index -> {model.best_index_}')"
   ]
  },
  {
   "cell_type": "code",
   "execution_count": 7,
   "metadata": {},
   "outputs": [],
   "source": [
    "def get_gridsearch_for_model(model, parameters : dict) -> GridSearchCV:\n",
    "    model_grid = GridSearchCV(\n",
    "        estimator=model,\n",
    "        param_grid=parameters,\n",
    "        scoring=['f1_micro', 'accuracy', 'recall_macro'],\n",
    "        refit='f1_micro',\n",
    "        cv=3,\n",
    "        verbose=3,\n",
    "        error_score=0\n",
    "    )\n",
    "    return model_grid"
   ]
  },
  {
   "cell_type": "code",
   "execution_count": 8,
   "metadata": {},
   "outputs": [],
   "source": [
    "def save_model(path:str, model):\n",
    "    with open(path, mode='wb') as pickle_file:\n",
    "        pickle.dump(model, pickle_file)\n",
    "\n",
    "def load_model(path:str):\n",
    "    with open('./models/lin_svc.pkl', mode='rb') as pickle_file:\n",
    "        model = pickle.load(pickle_file)\n",
    "    return model"
   ]
  },
  {
   "cell_type": "code",
   "execution_count": 9,
   "metadata": {},
   "outputs": [],
   "source": [
    "def print_metrics(y_test, y_pred):\n",
    "    print(f'f1_micro = {f1_score(y_test, y_pred, average=\"micro\")}\\nrecall_score = {recall_score(y_test, y_pred, average=\"macro\")}\\nprecision_score = {precision_score(y_test, y_pred, average=\"macro\")}')\n",
    "    "
   ]
  },
  {
   "cell_type": "markdown",
   "metadata": {},
   "source": [
    "# Data preprocessing"
   ]
  },
  {
   "cell_type": "code",
   "execution_count": 10,
   "metadata": {},
   "outputs": [
    {
     "data": {
      "text/html": [
       "<div>\n",
       "<style scoped>\n",
       "    .dataframe tbody tr th:only-of-type {\n",
       "        vertical-align: middle;\n",
       "    }\n",
       "\n",
       "    .dataframe tbody tr th {\n",
       "        vertical-align: top;\n",
       "    }\n",
       "\n",
       "    .dataframe thead th {\n",
       "        text-align: right;\n",
       "    }\n",
       "</style>\n",
       "<table border=\"1\" class=\"dataframe\">\n",
       "  <thead>\n",
       "    <tr style=\"text-align: right;\">\n",
       "      <th></th>\n",
       "      <th>Class Index</th>\n",
       "      <th>Title</th>\n",
       "      <th>Description</th>\n",
       "    </tr>\n",
       "  </thead>\n",
       "  <tbody>\n",
       "    <tr>\n",
       "      <th>0</th>\n",
       "      <td>3</td>\n",
       "      <td>Wall St. Bears Claw Back Into the Black (Reuters)</td>\n",
       "      <td>Reuters - Short-sellers, Wall Street's dwindli...</td>\n",
       "    </tr>\n",
       "    <tr>\n",
       "      <th>1</th>\n",
       "      <td>3</td>\n",
       "      <td>Carlyle Looks Toward Commercial Aerospace (Reu...</td>\n",
       "      <td>Reuters - Private investment firm Carlyle Grou...</td>\n",
       "    </tr>\n",
       "    <tr>\n",
       "      <th>2</th>\n",
       "      <td>3</td>\n",
       "      <td>Oil and Economy Cloud Stocks' Outlook (Reuters)</td>\n",
       "      <td>Reuters - Soaring crude prices plus worries\\ab...</td>\n",
       "    </tr>\n",
       "    <tr>\n",
       "      <th>3</th>\n",
       "      <td>3</td>\n",
       "      <td>Iraq Halts Oil Exports from Main Southern Pipe...</td>\n",
       "      <td>Reuters - Authorities have halted oil export\\f...</td>\n",
       "    </tr>\n",
       "    <tr>\n",
       "      <th>4</th>\n",
       "      <td>3</td>\n",
       "      <td>Oil prices soar to all-time record, posing new...</td>\n",
       "      <td>AFP - Tearaway world oil prices, toppling reco...</td>\n",
       "    </tr>\n",
       "  </tbody>\n",
       "</table>\n",
       "</div>"
      ],
      "text/plain": [
       "   Class Index                                              Title  \\\n",
       "0            3  Wall St. Bears Claw Back Into the Black (Reuters)   \n",
       "1            3  Carlyle Looks Toward Commercial Aerospace (Reu...   \n",
       "2            3    Oil and Economy Cloud Stocks' Outlook (Reuters)   \n",
       "3            3  Iraq Halts Oil Exports from Main Southern Pipe...   \n",
       "4            3  Oil prices soar to all-time record, posing new...   \n",
       "\n",
       "                                         Description  \n",
       "0  Reuters - Short-sellers, Wall Street's dwindli...  \n",
       "1  Reuters - Private investment firm Carlyle Grou...  \n",
       "2  Reuters - Soaring crude prices plus worries\\ab...  \n",
       "3  Reuters - Authorities have halted oil export\\f...  \n",
       "4  AFP - Tearaway world oil prices, toppling reco...  "
      ]
     },
     "execution_count": 10,
     "metadata": {},
     "output_type": "execute_result"
    }
   ],
   "source": [
    "test_dataset = pd.read_csv(\"data/test.csv\")\n",
    "train_dataset = pd.read_csv(\"data/train.csv\")\n",
    "train_dataset.head()"
   ]
  },
  {
   "cell_type": "markdown",
   "metadata": {},
   "source": [
    "Let's prepare copies of train dataset with 3 different text cleaning techniques (one method at a time):  \n",
    "- stop words removing\n",
    "- trash removing\n",
    "- digits removing"
   ]
  },
  {
   "cell_type": "code",
   "execution_count": 11,
   "metadata": {},
   "outputs": [
    {
     "data": {
      "text/html": [
       "<div>\n",
       "<style scoped>\n",
       "    .dataframe tbody tr th:only-of-type {\n",
       "        vertical-align: middle;\n",
       "    }\n",
       "\n",
       "    .dataframe tbody tr th {\n",
       "        vertical-align: top;\n",
       "    }\n",
       "\n",
       "    .dataframe thead th {\n",
       "        text-align: right;\n",
       "    }\n",
       "</style>\n",
       "<table border=\"1\" class=\"dataframe\">\n",
       "  <thead>\n",
       "    <tr style=\"text-align: right;\">\n",
       "      <th></th>\n",
       "      <th>0</th>\n",
       "    </tr>\n",
       "  </thead>\n",
       "  <tbody>\n",
       "    <tr>\n",
       "      <th>0</th>\n",
       "      <td>Reuters - Short-sellers, Wall Street's dwindli...</td>\n",
       "    </tr>\n",
       "    <tr>\n",
       "      <th>1</th>\n",
       "      <td>Reuters - Private investment firm Carlyle Grou...</td>\n",
       "    </tr>\n",
       "    <tr>\n",
       "      <th>2</th>\n",
       "      <td>Reuters - Soaring crude prices plus worries\\ab...</td>\n",
       "    </tr>\n",
       "    <tr>\n",
       "      <th>3</th>\n",
       "      <td>Reuters - Authorities have halted oil export\\f...</td>\n",
       "    </tr>\n",
       "    <tr>\n",
       "      <th>4</th>\n",
       "      <td>AFP - Tearaway world oil prices, toppling reco...</td>\n",
       "    </tr>\n",
       "    <tr>\n",
       "      <th>...</th>\n",
       "      <td>...</td>\n",
       "    </tr>\n",
       "    <tr>\n",
       "      <th>119995</th>\n",
       "      <td>KARACHI (Reuters) - Pakistani President Perve...</td>\n",
       "    </tr>\n",
       "    <tr>\n",
       "      <th>119996</th>\n",
       "      <td>Red Sox general manager Theo Epstein acknowled...</td>\n",
       "    </tr>\n",
       "    <tr>\n",
       "      <th>119997</th>\n",
       "      <td>The Miami Dolphins will put their courtship of...</td>\n",
       "    </tr>\n",
       "    <tr>\n",
       "      <th>119998</th>\n",
       "      <td>PITTSBURGH at NY GIANTS Time: 1:30 p.m. Line: ...</td>\n",
       "    </tr>\n",
       "    <tr>\n",
       "      <th>119999</th>\n",
       "      <td>INDIANAPOLIS -- All-Star Vince Carter was trad...</td>\n",
       "    </tr>\n",
       "  </tbody>\n",
       "</table>\n",
       "<p>120000 rows × 1 columns</p>\n",
       "</div>"
      ],
      "text/plain": [
       "                                                        0\n",
       "0       Reuters - Short-sellers, Wall Street's dwindli...\n",
       "1       Reuters - Private investment firm Carlyle Grou...\n",
       "2       Reuters - Soaring crude prices plus worries\\ab...\n",
       "3       Reuters - Authorities have halted oil export\\f...\n",
       "4       AFP - Tearaway world oil prices, toppling reco...\n",
       "...                                                   ...\n",
       "119995   KARACHI (Reuters) - Pakistani President Perve...\n",
       "119996  Red Sox general manager Theo Epstein acknowled...\n",
       "119997  The Miami Dolphins will put their courtship of...\n",
       "119998  PITTSBURGH at NY GIANTS Time: 1:30 p.m. Line: ...\n",
       "119999  INDIANAPOLIS -- All-Star Vince Carter was trad...\n",
       "\n",
       "[120000 rows x 1 columns]"
      ]
     },
     "execution_count": 11,
     "metadata": {},
     "output_type": "execute_result"
    }
   ],
   "source": [
    "train_dataset_splitted_texts = [line.split('\\n') for line in train_dataset['Description']]\n",
    "pd.DataFrame(train_dataset_splitted_texts)"
   ]
  },
  {
   "cell_type": "code",
   "execution_count": 12,
   "metadata": {},
   "outputs": [
    {
     "data": {
      "text/html": [
       "<div>\n",
       "<style scoped>\n",
       "    .dataframe tbody tr th:only-of-type {\n",
       "        vertical-align: middle;\n",
       "    }\n",
       "\n",
       "    .dataframe tbody tr th {\n",
       "        vertical-align: top;\n",
       "    }\n",
       "\n",
       "    .dataframe thead th {\n",
       "        text-align: right;\n",
       "    }\n",
       "</style>\n",
       "<table border=\"1\" class=\"dataframe\">\n",
       "  <thead>\n",
       "    <tr style=\"text-align: right;\">\n",
       "      <th></th>\n",
       "      <th>0</th>\n",
       "    </tr>\n",
       "  </thead>\n",
       "  <tbody>\n",
       "    <tr>\n",
       "      <th>0</th>\n",
       "      <td>Reuters - Short-sellers, Wall Street's dwindli...</td>\n",
       "    </tr>\n",
       "    <tr>\n",
       "      <th>1</th>\n",
       "      <td>Reuters - Private investment firm Carlyle Grou...</td>\n",
       "    </tr>\n",
       "    <tr>\n",
       "      <th>2</th>\n",
       "      <td>Reuters - Soaring crude prices plus worries\\ab...</td>\n",
       "    </tr>\n",
       "    <tr>\n",
       "      <th>3</th>\n",
       "      <td>Reuters - Authorities have halted oil export\\f...</td>\n",
       "    </tr>\n",
       "    <tr>\n",
       "      <th>4</th>\n",
       "      <td>AFP - Tearaway world oil prices, toppling reco...</td>\n",
       "    </tr>\n",
       "    <tr>\n",
       "      <th>...</th>\n",
       "      <td>...</td>\n",
       "    </tr>\n",
       "    <tr>\n",
       "      <th>119995</th>\n",
       "      <td>KARACHI (Reuters) - Pakistani President Perve...</td>\n",
       "    </tr>\n",
       "    <tr>\n",
       "      <th>119996</th>\n",
       "      <td>Red Sox general manager Theo Epstein acknowled...</td>\n",
       "    </tr>\n",
       "    <tr>\n",
       "      <th>119997</th>\n",
       "      <td>The Miami Dolphins will put their courtship of...</td>\n",
       "    </tr>\n",
       "    <tr>\n",
       "      <th>119998</th>\n",
       "      <td>PITTSBURGH at NY GIANTS Time: 1:30 p.m. Line: ...</td>\n",
       "    </tr>\n",
       "    <tr>\n",
       "      <th>119999</th>\n",
       "      <td>INDIANAPOLIS -- All-Star Vince Carter was trad...</td>\n",
       "    </tr>\n",
       "  </tbody>\n",
       "</table>\n",
       "<p>120000 rows × 1 columns</p>\n",
       "</div>"
      ],
      "text/plain": [
       "                                                        0\n",
       "0       Reuters - Short-sellers, Wall Street's dwindli...\n",
       "1       Reuters - Private investment firm Carlyle Grou...\n",
       "2       Reuters - Soaring crude prices plus worries\\ab...\n",
       "3       Reuters - Authorities have halted oil export\\f...\n",
       "4       AFP - Tearaway world oil prices, toppling reco...\n",
       "...                                                   ...\n",
       "119995   KARACHI (Reuters) - Pakistani President Perve...\n",
       "119996  Red Sox general manager Theo Epstein acknowled...\n",
       "119997  The Miami Dolphins will put their courtship of...\n",
       "119998  PITTSBURGH at NY GIANTS Time: 1:30 p.m. Line: ...\n",
       "119999  INDIANAPOLIS -- All-Star Vince Carter was trad...\n",
       "\n",
       "[120000 rows x 1 columns]"
      ]
     },
     "execution_count": 12,
     "metadata": {},
     "output_type": "execute_result"
    }
   ],
   "source": [
    "train_removed_stopwords = [' '.join([word if word not in stop_words.get_stop_words('en') else '' for word in text]) for text in train_dataset_splitted_texts]\n",
    "pd.DataFrame(train_removed_stopwords)"
   ]
  },
  {
   "cell_type": "code",
   "execution_count": 13,
   "metadata": {},
   "outputs": [
    {
     "data": {
      "text/html": [
       "<div>\n",
       "<style scoped>\n",
       "    .dataframe tbody tr th:only-of-type {\n",
       "        vertical-align: middle;\n",
       "    }\n",
       "\n",
       "    .dataframe tbody tr th {\n",
       "        vertical-align: top;\n",
       "    }\n",
       "\n",
       "    .dataframe thead th {\n",
       "        text-align: right;\n",
       "    }\n",
       "</style>\n",
       "<table border=\"1\" class=\"dataframe\">\n",
       "  <thead>\n",
       "    <tr style=\"text-align: right;\">\n",
       "      <th></th>\n",
       "      <th>0</th>\n",
       "    </tr>\n",
       "  </thead>\n",
       "  <tbody>\n",
       "    <tr>\n",
       "      <th>0</th>\n",
       "      <td>Reuters  Shortsellers Wall Streets dwindlingba...</td>\n",
       "    </tr>\n",
       "    <tr>\n",
       "      <th>1</th>\n",
       "      <td>Reuters  Private investment firm Carlyle Group...</td>\n",
       "    </tr>\n",
       "    <tr>\n",
       "      <th>2</th>\n",
       "      <td>Reuters  Soaring crude prices plus worriesabou...</td>\n",
       "    </tr>\n",
       "    <tr>\n",
       "      <th>3</th>\n",
       "      <td>Reuters  Authorities have halted oil exportflo...</td>\n",
       "    </tr>\n",
       "    <tr>\n",
       "      <th>4</th>\n",
       "      <td>AFP  Tearaway world oil prices toppling record...</td>\n",
       "    </tr>\n",
       "    <tr>\n",
       "      <th>...</th>\n",
       "      <td>...</td>\n",
       "    </tr>\n",
       "    <tr>\n",
       "      <th>119995</th>\n",
       "      <td>KARACHI Reuters  Pakistani President Pervez M...</td>\n",
       "    </tr>\n",
       "    <tr>\n",
       "      <th>119996</th>\n",
       "      <td>Red Sox general manager Theo Epstein acknowled...</td>\n",
       "    </tr>\n",
       "    <tr>\n",
       "      <th>119997</th>\n",
       "      <td>The Miami Dolphins will put their courtship of...</td>\n",
       "    </tr>\n",
       "    <tr>\n",
       "      <th>119998</th>\n",
       "      <td>PITTSBURGH at NY GIANTS Time 130 pm Line Steel...</td>\n",
       "    </tr>\n",
       "    <tr>\n",
       "      <th>119999</th>\n",
       "      <td>INDIANAPOLIS  AllStar Vince Carter was traded ...</td>\n",
       "    </tr>\n",
       "  </tbody>\n",
       "</table>\n",
       "<p>120000 rows × 1 columns</p>\n",
       "</div>"
      ],
      "text/plain": [
       "                                                        0\n",
       "0       Reuters  Shortsellers Wall Streets dwindlingba...\n",
       "1       Reuters  Private investment firm Carlyle Group...\n",
       "2       Reuters  Soaring crude prices plus worriesabou...\n",
       "3       Reuters  Authorities have halted oil exportflo...\n",
       "4       AFP  Tearaway world oil prices toppling record...\n",
       "...                                                   ...\n",
       "119995   KARACHI Reuters  Pakistani President Pervez M...\n",
       "119996  Red Sox general manager Theo Epstein acknowled...\n",
       "119997  The Miami Dolphins will put their courtship of...\n",
       "119998  PITTSBURGH at NY GIANTS Time 130 pm Line Steel...\n",
       "119999  INDIANAPOLIS  AllStar Vince Carter was traded ...\n",
       "\n",
       "[120000 rows x 1 columns]"
      ]
     },
     "execution_count": 13,
     "metadata": {},
     "output_type": "execute_result"
    }
   ],
   "source": [
    "train_removed_punctuation = [' '.join([(' '.join(text)).translate(str.maketrans('', '', str(\"!\\\"\\'(),-./:;?\\\\`\")))]) for text in train_dataset_splitted_texts]\n",
    "pd.DataFrame(train_removed_punctuation)\n",
    "# train_removed_punctuation"
   ]
  },
  {
   "cell_type": "code",
   "execution_count": 14,
   "metadata": {},
   "outputs": [],
   "source": [
    "exclude_symbols = u''.join(['№', '«', 'ђ', '°', '±', '‚', 'ћ', '‰', '…', '»', 'ѓ', 'µ', '·', 'ґ', 'њ', 'ї', 'џ', 'є', '‹',\n",
    "                            '‡', '†', '¶', 'ќ', '€', '“', 'ў', '§', '„', '”', '\\ufeff', '’', 'љ', '›', '•', '—', '‘', \n",
    "                            '\\x7f', '\\xad', '¤', '\\xa0', '\\u200b', '–']) + string.punctuation\n",
    "regex_symb = re.compile('[%s]' % re.escape(exclude_symbols))"
   ]
  },
  {
   "cell_type": "code",
   "execution_count": 15,
   "metadata": {},
   "outputs": [
    {
     "data": {
      "text/html": [
       "<div>\n",
       "<style scoped>\n",
       "    .dataframe tbody tr th:only-of-type {\n",
       "        vertical-align: middle;\n",
       "    }\n",
       "\n",
       "    .dataframe tbody tr th {\n",
       "        vertical-align: top;\n",
       "    }\n",
       "\n",
       "    .dataframe thead th {\n",
       "        text-align: right;\n",
       "    }\n",
       "</style>\n",
       "<table border=\"1\" class=\"dataframe\">\n",
       "  <thead>\n",
       "    <tr style=\"text-align: right;\">\n",
       "      <th></th>\n",
       "      <th>0</th>\n",
       "    </tr>\n",
       "  </thead>\n",
       "  <tbody>\n",
       "    <tr>\n",
       "      <th>0</th>\n",
       "      <td>Reuters Shortsellers Wall Streets dwindlingban...</td>\n",
       "    </tr>\n",
       "    <tr>\n",
       "      <th>1</th>\n",
       "      <td>Reuters Private investment firm Carlyle Groupw...</td>\n",
       "    </tr>\n",
       "    <tr>\n",
       "      <th>2</th>\n",
       "      <td>Reuters Soaring crude prices plus worriesabout...</td>\n",
       "    </tr>\n",
       "    <tr>\n",
       "      <th>3</th>\n",
       "      <td>Reuters Authorities have halted oil exportflow...</td>\n",
       "    </tr>\n",
       "    <tr>\n",
       "      <th>4</th>\n",
       "      <td>AFP Tearaway world oil prices toppling records...</td>\n",
       "    </tr>\n",
       "    <tr>\n",
       "      <th>...</th>\n",
       "      <td>...</td>\n",
       "    </tr>\n",
       "    <tr>\n",
       "      <th>119995</th>\n",
       "      <td>KARACHI Reuters Pakistani President Pervez Mu...</td>\n",
       "    </tr>\n",
       "    <tr>\n",
       "      <th>119996</th>\n",
       "      <td>Red Sox general manager Theo Epstein acknowled...</td>\n",
       "    </tr>\n",
       "    <tr>\n",
       "      <th>119997</th>\n",
       "      <td>The Miami Dolphins will put their courtship of...</td>\n",
       "    </tr>\n",
       "    <tr>\n",
       "      <th>119998</th>\n",
       "      <td>PITTSBURGH at NY GIANTS Time 130 pm Line Steel...</td>\n",
       "    </tr>\n",
       "    <tr>\n",
       "      <th>119999</th>\n",
       "      <td>INDIANAPOLIS AllStar Vince Carter was traded b...</td>\n",
       "    </tr>\n",
       "  </tbody>\n",
       "</table>\n",
       "<p>120000 rows × 1 columns</p>\n",
       "</div>"
      ],
      "text/plain": [
       "                                                        0\n",
       "0       Reuters Shortsellers Wall Streets dwindlingban...\n",
       "1       Reuters Private investment firm Carlyle Groupw...\n",
       "2       Reuters Soaring crude prices plus worriesabout...\n",
       "3       Reuters Authorities have halted oil exportflow...\n",
       "4       AFP Tearaway world oil prices toppling records...\n",
       "...                                                   ...\n",
       "119995   KARACHI Reuters Pakistani President Pervez Mu...\n",
       "119996  Red Sox general manager Theo Epstein acknowled...\n",
       "119997  The Miami Dolphins will put their courtship of...\n",
       "119998  PITTSBURGH at NY GIANTS Time 130 pm Line Steel...\n",
       "119999  INDIANAPOLIS AllStar Vince Carter was traded b...\n",
       "\n",
       "[120000 rows x 1 columns]"
      ]
     },
     "execution_count": 15,
     "metadata": {},
     "output_type": "execute_result"
    }
   ],
   "source": [
    "train_removed_trash = [regex_symb.sub('', ' '.join(text)) for text in train_dataset_splitted_texts]\n",
    "train_removed_trash = [re.sub(r' +', ' ', text) for text in train_removed_trash]\n",
    "pd.DataFrame(train_removed_trash)"
   ]
  },
  {
   "cell_type": "code",
   "execution_count": 16,
   "metadata": {},
   "outputs": [
    {
     "data": {
      "text/html": [
       "<div>\n",
       "<style scoped>\n",
       "    .dataframe tbody tr th:only-of-type {\n",
       "        vertical-align: middle;\n",
       "    }\n",
       "\n",
       "    .dataframe tbody tr th {\n",
       "        vertical-align: top;\n",
       "    }\n",
       "\n",
       "    .dataframe thead th {\n",
       "        text-align: right;\n",
       "    }\n",
       "</style>\n",
       "<table border=\"1\" class=\"dataframe\">\n",
       "  <thead>\n",
       "    <tr style=\"text-align: right;\">\n",
       "      <th></th>\n",
       "      <th>0</th>\n",
       "    </tr>\n",
       "  </thead>\n",
       "  <tbody>\n",
       "    <tr>\n",
       "      <th>0</th>\n",
       "      <td>Reuters - Short-sellers, Wall Street's dwindli...</td>\n",
       "    </tr>\n",
       "    <tr>\n",
       "      <th>1</th>\n",
       "      <td>Reuters - Private investment firm Carlyle Grou...</td>\n",
       "    </tr>\n",
       "    <tr>\n",
       "      <th>2</th>\n",
       "      <td>Reuters - Soaring crude prices plus worries\\ab...</td>\n",
       "    </tr>\n",
       "    <tr>\n",
       "      <th>3</th>\n",
       "      <td>Reuters - Authorities have halted oil export\\f...</td>\n",
       "    </tr>\n",
       "    <tr>\n",
       "      <th>4</th>\n",
       "      <td>AFP - Tearaway world oil prices, toppling reco...</td>\n",
       "    </tr>\n",
       "    <tr>\n",
       "      <th>...</th>\n",
       "      <td>...</td>\n",
       "    </tr>\n",
       "    <tr>\n",
       "      <th>119995</th>\n",
       "      <td>KARACHI (Reuters) - Pakistani President Perve...</td>\n",
       "    </tr>\n",
       "    <tr>\n",
       "      <th>119996</th>\n",
       "      <td>Red Sox general manager Theo Epstein acknowled...</td>\n",
       "    </tr>\n",
       "    <tr>\n",
       "      <th>119997</th>\n",
       "      <td>The Miami Dolphins will put their courtship of...</td>\n",
       "    </tr>\n",
       "    <tr>\n",
       "      <th>119998</th>\n",
       "      <td>PITTSBURGH at NY GIANTS Time: : p.m. Line: Ste...</td>\n",
       "    </tr>\n",
       "    <tr>\n",
       "      <th>119999</th>\n",
       "      <td>INDIANAPOLIS -- All-Star Vince Carter was trad...</td>\n",
       "    </tr>\n",
       "  </tbody>\n",
       "</table>\n",
       "<p>120000 rows × 1 columns</p>\n",
       "</div>"
      ],
      "text/plain": [
       "                                                        0\n",
       "0       Reuters - Short-sellers, Wall Street's dwindli...\n",
       "1       Reuters - Private investment firm Carlyle Grou...\n",
       "2       Reuters - Soaring crude prices plus worries\\ab...\n",
       "3       Reuters - Authorities have halted oil export\\f...\n",
       "4       AFP - Tearaway world oil prices, toppling reco...\n",
       "...                                                   ...\n",
       "119995   KARACHI (Reuters) - Pakistani President Perve...\n",
       "119996  Red Sox general manager Theo Epstein acknowled...\n",
       "119997  The Miami Dolphins will put their courtship of...\n",
       "119998  PITTSBURGH at NY GIANTS Time: : p.m. Line: Ste...\n",
       "119999  INDIANAPOLIS -- All-Star Vince Carter was trad...\n",
       "\n",
       "[120000 rows x 1 columns]"
      ]
     },
     "execution_count": 16,
     "metadata": {},
     "output_type": "execute_result"
    }
   ],
   "source": [
    "regex_digit = re.compile('[%s]' % re.escape(string.digits))\n",
    "train_removed_digits = [regex_digit.sub('', ' '.join(text)) for text in train_dataset_splitted_texts]\n",
    "pd.DataFrame(train_removed_digits)"
   ]
  },
  {
   "cell_type": "markdown",
   "metadata": {},
   "source": [
    "## CountVectorizer"
   ]
  },
  {
   "cell_type": "code",
   "execution_count": 17,
   "metadata": {},
   "outputs": [],
   "source": [
    "vectorizer = CountVectorizer(stop_words=stop_words.get_stop_words('en'), max_features=10000)"
   ]
  },
  {
   "cell_type": "code",
   "execution_count": 19,
   "metadata": {},
   "outputs": [],
   "source": [
    "Y = train_dataset[\"Class Index\"]\n",
    "seed = 42"
   ]
  },
  {
   "cell_type": "code",
   "execution_count": 13,
   "metadata": {},
   "outputs": [
    {
     "name": "stderr",
     "output_type": "stream",
     "text": [
      "/home/habkaffee/.local/lib/python3.10/site-packages/sklearn/feature_extraction/text.py:408: UserWarning: Your stop_words may be inconsistent with your preprocessing. Tokenizing the stop words generated tokens ['aren', 'can', 'couldn', 'didn', 'doesn', 'don', 'hadn', 'hasn', 'haven', 'isn', 'let', 'll', 'mustn', 're', 'shan', 'shouldn', 've', 'wasn', 'weren', 'won', 'wouldn'] not in stop_words.\n",
      "  warnings.warn(\n"
     ]
    }
   ],
   "source": [
    "CVect_stopwords = vectorizer.fit_transform(train_removed_stopwords).toarray()"
   ]
  },
  {
   "cell_type": "code",
   "execution_count": 14,
   "metadata": {},
   "outputs": [],
   "source": [
    "X_train, X_test, Y_train, Y_test = train_test_split(CVect_stopwords, Y, test_size=0.25, random_state=seed)"
   ]
  },
  {
   "cell_type": "code",
   "execution_count": null,
   "metadata": {},
   "outputs": [],
   "source": [
    "# parameters_logreg = {\n",
    "#     'penalty': ['l1', 'l2'],\n",
    "#     'C': [0.01, 0.1, 0.5, 1.0, 10.0],\n",
    "#     'solver': ['lbfgs', 'liblinear'],\n",
    "#     'max_iter': [100, 500]\n",
    "# }\n",
    "\n",
    "# grid_log = get_gridsearch_for_model(LogisticRegression(), parameters_logreg)\n",
    "\n",
    "# grid_log.fit(X_train, Y_train)\n",
    "# print_grid_search_info(grid_log)"
   ]
  },
  {
   "cell_type": "code",
   "execution_count": 20,
   "metadata": {},
   "outputs": [
    {
     "name": "stdout",
     "output_type": "stream",
     "text": [
      "accuracy_score = 0.9016666666666667\n",
      "recall_score = 0.9014730717851448\n",
      "precision_score = 0.9013132593705164\n"
     ]
    }
   ],
   "source": [
    "# Y_pred_logreg = grid_log.predict(X_test)\n",
    "# print_metrics(Y_test, Y_pred_logreg)\n",
    "# save_model('./models/log_reg.pkl', grid_log)"
   ]
  },
  {
   "cell_type": "code",
   "execution_count": null,
   "metadata": {},
   "outputs": [],
   "source": [
    "parameters_linSVC = {\n",
    "    'penalty': ['l1', 'l2'],\n",
    "    'loss': ['hinge', 'squared_hinge'],\n",
    "    'C': np.linspace(0.001, 0.1, 5),\n",
    "    'max_iter': [1000, 3000, 5000],\n",
    "    'dual':[True]\n",
    "}\n",
    "\n",
    "grid_linearSVC = get_gridsearch_for_model(LinearSVC(), parameters_linSVC)\n",
    "\n",
    "grid_linearSVC.fit(X_train, Y_train)\n",
    "print_grid_search_info(grid_linearSVC)"
   ]
  },
  {
   "cell_type": "code",
   "execution_count": 22,
   "metadata": {},
   "outputs": [
    {
     "name": "stdout",
     "output_type": "stream",
     "text": [
      "accuracy_score = 0.9051999999999999\n",
      "recall_score = 0.9050006500418074\n",
      "precision_score = 0.9049231276210165\n"
     ]
    }
   ],
   "source": [
    "Y_pred_linSVC = grid_linearSVC.predict(X_test)\n",
    "print_metrics(Y_test, Y_pred_linSVC)\n",
    "save_model('./models/lin_svc.pkl', grid_linearSVC)"
   ]
  },
  {
   "cell_type": "code",
   "execution_count": null,
   "metadata": {},
   "outputs": [],
   "source": [
    "# MARK: Model is saved in KNN.pkl. Code commented to avoid exsistential crysis due to 5 hours of wasted time :D\n",
    "\n",
    "# parameters_KNN = {\n",
    "#     'n_neighbors' : [5, 6, 7],\n",
    "#     'weights' : ['uniform', 'distance'],\n",
    "#     'leaf_size' : [1, 2, 3],\n",
    "#     'n_jobs' : [10]\n",
    "# }\n",
    "\n",
    "# grid_KNN = get_gridsearch_for_model(KNeighborsClassifier(), parameters_KNN)\n",
    "\n",
    "# grid_KNN.fit(X_train, Y_train)\n",
    "# print_grid_search_info(grid_KNN)"
   ]
  },
  {
   "cell_type": "code",
   "execution_count": 25,
   "metadata": {},
   "outputs": [
    {
     "name": "stdout",
     "output_type": "stream",
     "text": [
      "accuracy_score = 0.5876333333333333\n",
      "recall_score = 0.5868685205825099\n",
      "precision_score = 0.6719880795980494\n"
     ]
    }
   ],
   "source": [
    "# Y_pred_KNN = grid_KNN.predict(X_test)\n",
    "# print_metrics(Y_test, Y_pred_KNN)\n",
    "# save_model('./models/KNN.pkl', grid_RFC)"
   ]
  },
  {
   "cell_type": "code",
   "execution_count": null,
   "metadata": {},
   "outputs": [],
   "source": [
    "CVect_trash = vectorizer.fit_transform(train_removed_trash).toarray()"
   ]
  },
  {
   "cell_type": "code",
   "execution_count": 19,
   "metadata": {},
   "outputs": [],
   "source": [
    "X_train, X_test, Y_train, Y_test = train_test_split(CVect_trash, Y, test_size=0.25, random_state=seed)"
   ]
  },
  {
   "cell_type": "code",
   "execution_count": null,
   "metadata": {},
   "outputs": [],
   "source": [
    "# parameters_logreg = {\n",
    "#     'penalty': ['l1', 'l2'],\n",
    "#     'C': [0.01, 0.1, 0.5, 1.0, 10.0],\n",
    "#     'solver': ['lbfgs', 'liblinear'],\n",
    "#     'max_iter': [100, 500]\n",
    "# }\n",
    "\n",
    "# grid_log = get_gridsearch_for_model(LogisticRegression(), parameters_logreg)\n",
    "\n",
    "# grid_log.fit(X_train, Y_train)\n",
    "# print_grid_search_info(grid_log)"
   ]
  },
  {
   "cell_type": "code",
   "execution_count": 21,
   "metadata": {},
   "outputs": [
    {
     "name": "stdout",
     "output_type": "stream",
     "text": [
      "accuracy_score = 0.8989\n",
      "recall_score = 0.8987174214816545\n",
      "precision_score = 0.8985895429774059\n"
     ]
    }
   ],
   "source": [
    "# Y_pred_logreg = grid_log.predict(X_test)\n",
    "# print_metrics(Y_test, Y_pred_logreg)\n",
    "# save_model('./models/log_reg_trash.pkl', grid_log)"
   ]
  },
  {
   "cell_type": "code",
   "execution_count": null,
   "metadata": {},
   "outputs": [],
   "source": [
    "parameters_linSVC = {\n",
    "    'penalty': ['l1', 'l2'],\n",
    "    'loss': ['hinge', 'squared_hinge'],\n",
    "    'C': np.linspace(0.001, 0.1, 5),\n",
    "    'max_iter': [1000, 3000, 5000],\n",
    "    'dual':[True]\n",
    "}\n",
    "\n",
    "grid_linearSVC = get_gridsearch_for_model(LinearSVC(), parameters_linSVC)\n",
    "\n",
    "grid_linearSVC.fit(X_train, Y_train)\n",
    "print_grid_search_info(grid_linearSVC)"
   ]
  },
  {
   "cell_type": "code",
   "execution_count": null,
   "metadata": {},
   "outputs": [],
   "source": [
    "Y_pred_linSVC = grid_linearSVC.predict(X_test)\n",
    "print_metrics(Y_test, Y_pred_linSVC)\n",
    "save_model('./models/lin_svc_trash.pkl', grid_linearSVC)"
   ]
  },
  {
   "cell_type": "code",
   "execution_count": 19,
   "metadata": {},
   "outputs": [
    {
     "name": "stderr",
     "output_type": "stream",
     "text": [
      "/home/habkaffee/.local/lib/python3.10/site-packages/sklearn/feature_extraction/text.py:408: UserWarning: Your stop_words may be inconsistent with your preprocessing. Tokenizing the stop words generated tokens ['aren', 'can', 'couldn', 'didn', 'doesn', 'don', 'hadn', 'hasn', 'haven', 'isn', 'let', 'll', 'mustn', 're', 'shan', 'shouldn', 've', 'wasn', 'weren', 'won', 'wouldn'] not in stop_words.\n",
      "  warnings.warn(\n"
     ]
    }
   ],
   "source": [
    "CVect_digits = vectorizer.fit_transform(train_removed_digits).toarray()"
   ]
  },
  {
   "cell_type": "code",
   "execution_count": 20,
   "metadata": {},
   "outputs": [],
   "source": [
    "X_train, X_test, Y_train, Y_test = train_test_split(CVect_digits, Y, test_size=0.25, random_state=seed)"
   ]
  },
  {
   "cell_type": "code",
   "execution_count": null,
   "metadata": {},
   "outputs": [],
   "source": [
    "# parameters_logreg = {\n",
    "#     'penalty': ['l1', 'l2'],\n",
    "#     'C': [0.01, 0.1, 0.5, 1.0, 10.0],\n",
    "#     'solver': ['lbfgs', 'liblinear'],\n",
    "#     'max_iter': [100, 500]\n",
    "# }\n",
    "\n",
    "# grid_log = get_gridsearch_for_model(LogisticRegression(), parameters_logreg)\n",
    "\n",
    "# grid_log.fit(X_train, Y_train)\n",
    "# print_grid_search_info(grid_log)"
   ]
  },
  {
   "cell_type": "code",
   "execution_count": 22,
   "metadata": {},
   "outputs": [
    {
     "name": "stdout",
     "output_type": "stream",
     "text": [
      "f1_micro = 0.9018333333333334\n",
      "recall_score = 0.9016440165316573\n",
      "precision_score = 0.9014961075002719\n"
     ]
    }
   ],
   "source": [
    "# Y_pred_logreg = grid_log.predict(X_test)\n",
    "# print_metrics(Y_test, Y_pred_logreg)\n",
    "# save_model('./models/log_reg_digits.pkl', grid_log)"
   ]
  },
  {
   "cell_type": "code",
   "execution_count": null,
   "metadata": {},
   "outputs": [],
   "source": [
    "parameters_linSVC = {\n",
    "    'penalty': ['l1', 'l2'],\n",
    "    'loss': ['hinge', 'squared_hinge'],\n",
    "    'C': np.linspace(0.001, 0.1, 5),\n",
    "    'max_iter': [1000, 3000, 5000],\n",
    "    'dual':[True]\n",
    "}\n",
    "\n",
    "grid_linearSVC = get_gridsearch_for_model(LinearSVC(), parameters_linSVC)\n",
    "\n",
    "grid_linearSVC.fit(X_train, Y_train)\n",
    "print_grid_search_info(grid_linearSVC)"
   ]
  },
  {
   "cell_type": "code",
   "execution_count": 24,
   "metadata": {},
   "outputs": [
    {
     "name": "stdout",
     "output_type": "stream",
     "text": [
      "f1_micro = 0.9048\n",
      "recall_score = 0.9046027739688296\n",
      "precision_score = 0.9045058874334311\n"
     ]
    }
   ],
   "source": [
    "Y_pred_linSVC = grid_linearSVC.predict(X_test)\n",
    "print_metrics(Y_test, Y_pred_linSVC)\n",
    "save_model('./models/lin_svc_digits.pkl', grid_linearSVC)"
   ]
  },
  {
   "cell_type": "markdown",
   "metadata": {},
   "source": [
    "## TF-IDF"
   ]
  },
  {
   "cell_type": "code",
   "execution_count": 19,
   "metadata": {},
   "outputs": [],
   "source": [
    "vectorizer = TfidfVectorizer(stop_words=stop_words.get_stop_words(\"en\"), max_features=10000)"
   ]
  },
  {
   "cell_type": "code",
   "execution_count": 20,
   "metadata": {},
   "outputs": [],
   "source": [
    "Y = train_dataset[\"Class Index\"]\n",
    "seed = 42"
   ]
  },
  {
   "cell_type": "code",
   "execution_count": 21,
   "metadata": {},
   "outputs": [
    {
     "name": "stderr",
     "output_type": "stream",
     "text": [
      "/home/habkaffee/.local/lib/python3.10/site-packages/sklearn/feature_extraction/text.py:408: UserWarning: Your stop_words may be inconsistent with your preprocessing. Tokenizing the stop words generated tokens ['aren', 'can', 'couldn', 'didn', 'doesn', 'don', 'hadn', 'hasn', 'haven', 'isn', 'let', 'll', 'mustn', 're', 'shan', 'shouldn', 've', 'wasn', 'weren', 'won', 'wouldn'] not in stop_words.\n",
      "  warnings.warn(\n"
     ]
    }
   ],
   "source": [
    "TF_IDF_stopwords = vectorizer.fit_transform(train_removed_stopwords).toarray()"
   ]
  },
  {
   "cell_type": "code",
   "execution_count": 22,
   "metadata": {},
   "outputs": [],
   "source": [
    "X_train, X_test, Y_train, Y_test = train_test_split(TF_IDF_stopwords, Y, test_size=0.25, random_state=seed)"
   ]
  },
  {
   "cell_type": "code",
   "execution_count": null,
   "metadata": {},
   "outputs": [],
   "source": [
    "# MARK: Train took 2 hours. Tooooooo long. LinearSVC takes about 10 mins for same/better results. ¬_¬\n",
    "\n",
    "# parameters_logreg = {\n",
    "#     'penalty': ['l1', 'l2'],\n",
    "#     'C': [0.01, 0.1, 0.5, 1.0, 10.0],\n",
    "#     'solver': ['lbfgs', 'liblinear'],\n",
    "#     'max_iter': [100, 500]\n",
    "# }\n",
    "\n",
    "# grid_log = get_gridsearch_for_model(LogisticRegression(), parameters_logreg)\n",
    "\n",
    "# grid_log.fit(X_train, Y_train)\n",
    "# print_grid_search_info(grid_log)"
   ]
  },
  {
   "cell_type": "code",
   "execution_count": 24,
   "metadata": {},
   "outputs": [
    {
     "name": "stdout",
     "output_type": "stream",
     "text": [
      "f1_micro = 0.9031333333333333\n",
      "recall_score = 0.9029454615604425\n",
      "precision_score = 0.9027714533817023\n"
     ]
    }
   ],
   "source": [
    "# Y_pred_logreg = grid_log.predict(X_test)\n",
    "# print_metrics(Y_test, Y_pred_logreg)\n",
    "# save_model('./models/tfidf_log_reg.pkl', grid_log)"
   ]
  },
  {
   "cell_type": "code",
   "execution_count": null,
   "metadata": {},
   "outputs": [],
   "source": [
    "parameters_linSVC = {\n",
    "    'penalty': ['l1', 'l2'],\n",
    "    'loss': ['hinge', 'squared_hinge'],\n",
    "    'C': np.linspace(0.001, 0.1, 5),\n",
    "    'max_iter': [1000, 3000, 5000],\n",
    "    'dual':[True]\n",
    "}\n",
    "\n",
    "grid_linearSVC = get_gridsearch_for_model(LinearSVC(), parameters_linSVC)\n",
    "\n",
    "grid_linearSVC.fit(X_train, Y_train)\n",
    "print_grid_search_info(grid_linearSVC)"
   ]
  },
  {
   "cell_type": "code",
   "execution_count": 26,
   "metadata": {},
   "outputs": [
    {
     "name": "stdout",
     "output_type": "stream",
     "text": [
      "f1_micro = 0.9057\n",
      "recall_score = 0.9054968328127582\n",
      "precision_score = 0.9053354655929421\n"
     ]
    }
   ],
   "source": [
    "Y_pred_linSVC = grid_linearSVC.predict(X_test)\n",
    "print_metrics(Y_test, Y_pred_linSVC)\n",
    "save_model('./models/tfidf_lin_svc.pkl', grid_linearSVC)"
   ]
  },
  {
   "cell_type": "code",
   "execution_count": 27,
   "metadata": {},
   "outputs": [],
   "source": [
    "TF_IDF_trash = vectorizer.fit_transform(train_removed_trash).toarray()"
   ]
  },
  {
   "cell_type": "code",
   "execution_count": 28,
   "metadata": {},
   "outputs": [],
   "source": [
    "X_train, X_test, Y_train, Y_test = train_test_split(TF_IDF_trash, Y, test_size=0.25, random_state=seed)"
   ]
  },
  {
   "cell_type": "code",
   "execution_count": null,
   "metadata": {},
   "outputs": [],
   "source": [
    "# parameters_logreg = {\n",
    "#     'penalty': ['l1', 'l2'],\n",
    "#     'C': [0.01, 0.1, 0.5, 1.0, 10.0],\n",
    "#     'solver': ['lbfgs', 'liblinear'],\n",
    "#     'max_iter': [100, 500]\n",
    "# }\n",
    "\n",
    "# grid_log = get_gridsearch_for_model(LogisticRegression(), parameters_logreg)\n",
    "\n",
    "# grid_log.fit(X_train, Y_train)\n",
    "# print_grid_search_info(grid_log)"
   ]
  },
  {
   "cell_type": "code",
   "execution_count": null,
   "metadata": {},
   "outputs": [],
   "source": [
    "# Y_pred_logreg = grid_log.predict(X_test)\n",
    "# print_metrics(Y_test, Y_pred_logreg)\n",
    "# save_model('./models/tfidf_log_reg_trash.pkl', grid_log)"
   ]
  },
  {
   "cell_type": "code",
   "execution_count": null,
   "metadata": {},
   "outputs": [],
   "source": [
    "parameters_linSVC = {\n",
    "    'penalty': ['l1', 'l2'],\n",
    "    'loss': ['hinge', 'squared_hinge'],\n",
    "    'C': np.linspace(0.001, 0.1, 5),\n",
    "    'max_iter': [1000, 3000, 5000],\n",
    "    'dual':[True]\n",
    "}\n",
    "\n",
    "grid_linearSVC = get_gridsearch_for_model(LinearSVC(), parameters_linSVC)\n",
    "\n",
    "grid_linearSVC.fit(X_train, Y_train)\n",
    "print_grid_search_info(grid_linearSVC)"
   ]
  },
  {
   "cell_type": "code",
   "execution_count": 30,
   "metadata": {},
   "outputs": [
    {
     "name": "stdout",
     "output_type": "stream",
     "text": [
      "f1_micro = 0.9035333333333334\n",
      "recall_score = 0.9033344208409184\n",
      "precision_score = 0.903135971056928\n"
     ]
    }
   ],
   "source": [
    "Y_pred_linSVC = grid_linearSVC.predict(X_test)\n",
    "print_metrics(Y_test, Y_pred_linSVC)\n",
    "save_model('./models/tfidf_lin_svc_trash.pkl', grid_linearSVC)"
   ]
  },
  {
   "cell_type": "code",
   "execution_count": 31,
   "metadata": {},
   "outputs": [],
   "source": [
    "TF_IDF_digits = vectorizer.fit_transform(train_removed_digits).toarray()"
   ]
  },
  {
   "cell_type": "code",
   "execution_count": 32,
   "metadata": {},
   "outputs": [],
   "source": [
    "X_train, X_test, Y_train, Y_test = train_test_split(TF_IDF_digits, Y, test_size=0.25, random_state=seed)"
   ]
  },
  {
   "cell_type": "code",
   "execution_count": null,
   "metadata": {},
   "outputs": [],
   "source": [
    "# parameters_logreg = {\n",
    "#     'penalty': ['l1', 'l2'],\n",
    "#     'C': [0.01, 0.1, 0.5, 1.0, 10.0],\n",
    "#     'solver': ['lbfgs', 'liblinear'],\n",
    "#     'max_iter': [100, 500]\n",
    "# }\n",
    "\n",
    "# grid_log = get_gridsearch_for_model(LogisticRegression(), parameters_logreg)\n",
    "\n",
    "# grid_log.fit(X_train, Y_train)\n",
    "# print_grid_search_info(grid_log)"
   ]
  },
  {
   "cell_type": "code",
   "execution_count": null,
   "metadata": {},
   "outputs": [],
   "source": [
    "# Y_pred_logreg = grid_log.predict(X_test)\n",
    "# print_metrics(Y_test, Y_pred_logreg)\n",
    "# save_model('./models/tfidf_log_reg_digits.pkl', grid_log)"
   ]
  },
  {
   "cell_type": "code",
   "execution_count": null,
   "metadata": {},
   "outputs": [],
   "source": [
    "parameters_linSVC = {\n",
    "    'penalty': ['l1', 'l2'],\n",
    "    'loss': ['hinge', 'squared_hinge'],\n",
    "    'C': np.linspace(0.001, 0.1, 5),\n",
    "    'max_iter': [1000, 3000, 5000],\n",
    "    'dual':[True]\n",
    "}\n",
    "\n",
    "grid_linearSVC = get_gridsearch_for_model(LinearSVC(), parameters_linSVC)\n",
    "\n",
    "grid_linearSVC.fit(X_train, Y_train)\n",
    "print_grid_search_info(grid_linearSVC)"
   ]
  },
  {
   "cell_type": "code",
   "execution_count": 34,
   "metadata": {},
   "outputs": [
    {
     "name": "stdout",
     "output_type": "stream",
     "text": [
      "f1_micro = 0.9052666666666667\n",
      "recall_score = 0.9050644250852479\n",
      "precision_score = 0.9048826648675069\n"
     ]
    }
   ],
   "source": [
    "Y_pred_linSVC = grid_linearSVC.predict(X_test)\n",
    "print_metrics(Y_test, Y_pred_linSVC)\n",
    "save_model('./models/tfidf_lin_svc_digits.pkl', grid_linearSVC)"
   ]
  },
  {
   "cell_type": "markdown",
   "metadata": {},
   "source": [
    "## Lemmatization and try over"
   ]
  },
  {
   "cell_type": "code",
   "execution_count": 17,
   "metadata": {},
   "outputs": [],
   "source": [
    "from nltk.stem import WordNetLemmatizer\n",
    "lemmatizer = WordNetLemmatizer()"
   ]
  },
  {
   "cell_type": "code",
   "execution_count": 18,
   "metadata": {},
   "outputs": [],
   "source": [
    "train_removed_stopwords_copy = [' '.join([lemmatizer.lemmatize(word, pos=\"n\") for word in text.split()]) for text in train_removed_stopwords]\n",
    "train_removed_stopwords_copy = [' '.join([lemmatizer.lemmatize(word, pos=\"a\") for word in text.split()]) for text in train_removed_stopwords]\n",
    "train_removed_stopwords_copy = [' '.join([lemmatizer.lemmatize(word, pos=\"v\") for word in text.split()]) for text in train_removed_stopwords]\n",
    "train_removed_stopwords_copy = [' '.join([lemmatizer.lemmatize(word, pos=\"r\") for word in text.split()]) for text in train_removed_stopwords]\n",
    "train_removed_stopwords_copy = [' '.join([lemmatizer.lemmatize(word, pos=\"s\") for word in text.split()]) for text in train_removed_stopwords]\n",
    "\n",
    "train_removed_trash_copy = [' '.join([lemmatizer.lemmatize(word, pos=\"n\") for word in text.split()]) for text in train_removed_trash]\n",
    "train_removed_trash_copy = [' '.join([lemmatizer.lemmatize(word, pos=\"a\") for word in text.split()]) for text in train_removed_trash]\n",
    "train_removed_trash_copy = [' '.join([lemmatizer.lemmatize(word, pos=\"v\") for word in text.split()]) for text in train_removed_trash]\n",
    "train_removed_trash_copy = [' '.join([lemmatizer.lemmatize(word, pos=\"r\") for word in text.split()]) for text in train_removed_trash]\n",
    "train_removed_trash_copy = [' '.join([lemmatizer.lemmatize(word, pos=\"s\") for word in text.split()]) for text in train_removed_trash]\n",
    "\n",
    "train_removed_digits_copy = [' '.join([lemmatizer.lemmatize(word, pos=\"n\") for word in text.split()]) for text in train_removed_digits]\n",
    "train_removed_digits_copy = [' '.join([lemmatizer.lemmatize(word, pos=\"a\") for word in text.split()]) for text in train_removed_digits]\n",
    "train_removed_digits_copy = [' '.join([lemmatizer.lemmatize(word, pos=\"v\") for word in text.split()]) for text in train_removed_digits]\n",
    "train_removed_digits_copy = [' '.join([lemmatizer.lemmatize(word, pos=\"r\") for word in text.split()]) for text in train_removed_digits]\n",
    "train_removed_digits_copy = [' '.join([lemmatizer.lemmatize(word, pos=\"s\") for word in text.split()]) for text in train_removed_digits]"
   ]
  },
  {
   "cell_type": "code",
   "execution_count": 19,
   "metadata": {},
   "outputs": [],
   "source": [
    "vectorizer = CountVectorizer(stop_words=stop_words.get_stop_words('en'), max_features=10000)"
   ]
  },
  {
   "cell_type": "code",
   "execution_count": 20,
   "metadata": {},
   "outputs": [],
   "source": [
    "Y = train_dataset[\"Class Index\"]\n",
    "seed = 42"
   ]
  },
  {
   "cell_type": "code",
   "execution_count": null,
   "metadata": {},
   "outputs": [
    {
     "name": "stderr",
     "output_type": "stream",
     "text": [
      "/home/habkaffee/.local/lib/python3.10/site-packages/sklearn/feature_extraction/text.py:408: UserWarning: Your stop_words may be inconsistent with your preprocessing. Tokenizing the stop words generated tokens ['aren', 'can', 'couldn', 'didn', 'doesn', 'don', 'hadn', 'hasn', 'haven', 'isn', 'let', 'll', 'mustn', 're', 'shan', 'shouldn', 've', 'wasn', 'weren', 'won', 'wouldn'] not in stop_words.\n",
      "  warnings.warn(\n"
     ]
    }
   ],
   "source": [
    "CVect_stopwords = vectorizer.fit_transform(train_removed_stopwords_copy).toarray()"
   ]
  },
  {
   "cell_type": "code",
   "execution_count": null,
   "metadata": {},
   "outputs": [],
   "source": [
    "X_train, X_test, Y_train, Y_test = train_test_split(CVect_stopwords, Y, test_size=0.25, random_state=seed)"
   ]
  },
  {
   "cell_type": "code",
   "execution_count": 24,
   "metadata": {},
   "outputs": [],
   "source": [
    "parameters_linSVC = {\n",
    "    'penalty': ['l1', 'l2'],\n",
    "    'loss': ['hinge', 'squared_hinge'],\n",
    "    'C': np.linspace(0.001, 0.1, 5),\n",
    "    'max_iter': [1000, 3000, 5000],\n",
    "    'dual':[True]\n",
    "}"
   ]
  },
  {
   "cell_type": "code",
   "execution_count": null,
   "metadata": {},
   "outputs": [],
   "source": [
    "grid_linearSVC = get_gridsearch_for_model(LinearSVC(), parameters_linSVC)\n",
    "\n",
    "grid_linearSVC.fit(X_train, Y_train)\n",
    "print_grid_search_info(grid_linearSVC)"
   ]
  },
  {
   "cell_type": "code",
   "execution_count": 25,
   "metadata": {},
   "outputs": [
    {
     "name": "stdout",
     "output_type": "stream",
     "text": [
      "f1_micro = 0.9045333333333333\n",
      "recall_score = 0.9043353591136335\n",
      "precision_score = 0.9042743026896476\n"
     ]
    }
   ],
   "source": [
    "Y_pred_linSVC = grid_linearSVC.predict(X_test)\n",
    "print_metrics(Y_test, Y_pred_linSVC)\n",
    "save_model('./models/lemmat_lin_svc.pkl', grid_linearSVC)"
   ]
  },
  {
   "cell_type": "code",
   "execution_count": 21,
   "metadata": {},
   "outputs": [
    {
     "name": "stderr",
     "output_type": "stream",
     "text": [
      "/home/habkaffee/.local/lib/python3.10/site-packages/sklearn/feature_extraction/text.py:408: UserWarning: Your stop_words may be inconsistent with your preprocessing. Tokenizing the stop words generated tokens ['aren', 'can', 'couldn', 'didn', 'doesn', 'don', 'hadn', 'hasn', 'haven', 'isn', 'let', 'll', 'mustn', 're', 'shan', 'shouldn', 've', 'wasn', 'weren', 'won', 'wouldn'] not in stop_words.\n",
      "  warnings.warn(\n"
     ]
    }
   ],
   "source": [
    "CVect_trash = vectorizer.fit_transform(train_removed_trash_copy).toarray()"
   ]
  },
  {
   "cell_type": "code",
   "execution_count": 22,
   "metadata": {},
   "outputs": [],
   "source": [
    "X_train, X_test, Y_train, Y_test = train_test_split(CVect_trash, Y, test_size=0.25, random_state=seed)"
   ]
  },
  {
   "cell_type": "code",
   "execution_count": 25,
   "metadata": {},
   "outputs": [
    {
     "name": "stdout",
     "output_type": "stream",
     "text": [
      "Fitting 3 folds for each of 60 candidates, totalling 180 fits\n",
      "[CV 1/3] END C=0.001, dual=True, loss=hinge, max_iter=1000, penalty=l1; accuracy: (test=0.000) f1_micro: (test=0.000) recall_macro: (test=0.000) total time=   3.8s\n",
      "[CV 2/3] END C=0.001, dual=True, loss=hinge, max_iter=1000, penalty=l1; accuracy: (test=0.000) f1_micro: (test=0.000) recall_macro: (test=0.000) total time=   3.1s\n",
      "[CV 3/3] END C=0.001, dual=True, loss=hinge, max_iter=1000, penalty=l1; accuracy: (test=0.000) f1_micro: (test=0.000) recall_macro: (test=0.000) total time=   3.0s\n",
      "[CV 1/3] END C=0.001, dual=True, loss=hinge, max_iter=1000, penalty=l2; accuracy: (test=0.860) f1_micro: (test=0.860) recall_macro: (test=0.860) total time=   6.3s\n",
      "[CV 2/3] END C=0.001, dual=True, loss=hinge, max_iter=1000, penalty=l2; accuracy: (test=0.859) f1_micro: (test=0.859) recall_macro: (test=0.859) total time=   5.5s\n",
      "[CV 3/3] END C=0.001, dual=True, loss=hinge, max_iter=1000, penalty=l2; accuracy: (test=0.860) f1_micro: (test=0.860) recall_macro: (test=0.860) total time=   5.2s\n",
      "[CV 1/3] END C=0.001, dual=True, loss=hinge, max_iter=3000, penalty=l1; accuracy: (test=0.000) f1_micro: (test=0.000) recall_macro: (test=0.000) total time=   3.3s\n",
      "[CV 2/3] END C=0.001, dual=True, loss=hinge, max_iter=3000, penalty=l1; accuracy: (test=0.000) f1_micro: (test=0.000) recall_macro: (test=0.000) total time=   4.0s\n",
      "[CV 3/3] END C=0.001, dual=True, loss=hinge, max_iter=3000, penalty=l1; accuracy: (test=0.000) f1_micro: (test=0.000) recall_macro: (test=0.000) total time=   3.5s\n",
      "[CV 1/3] END C=0.001, dual=True, loss=hinge, max_iter=3000, penalty=l2; accuracy: (test=0.860) f1_micro: (test=0.860) recall_macro: (test=0.860) total time=   6.4s\n",
      "[CV 2/3] END C=0.001, dual=True, loss=hinge, max_iter=3000, penalty=l2; accuracy: (test=0.859) f1_micro: (test=0.859) recall_macro: (test=0.859) total time=   5.3s\n",
      "[CV 3/3] END C=0.001, dual=True, loss=hinge, max_iter=3000, penalty=l2; accuracy: (test=0.860) f1_micro: (test=0.860) recall_macro: (test=0.860) total time=   5.8s\n",
      "[CV 1/3] END C=0.001, dual=True, loss=hinge, max_iter=5000, penalty=l1; accuracy: (test=0.000) f1_micro: (test=0.000) recall_macro: (test=0.000) total time=   2.4s\n",
      "[CV 2/3] END C=0.001, dual=True, loss=hinge, max_iter=5000, penalty=l1; accuracy: (test=0.000) f1_micro: (test=0.000) recall_macro: (test=0.000) total time=   2.8s\n",
      "[CV 3/3] END C=0.001, dual=True, loss=hinge, max_iter=5000, penalty=l1; accuracy: (test=0.000) f1_micro: (test=0.000) recall_macro: (test=0.000) total time=   2.9s\n",
      "[CV 1/3] END C=0.001, dual=True, loss=hinge, max_iter=5000, penalty=l2; accuracy: (test=0.860) f1_micro: (test=0.860) recall_macro: (test=0.860) total time=   5.7s\n",
      "[CV 2/3] END C=0.001, dual=True, loss=hinge, max_iter=5000, penalty=l2; accuracy: (test=0.859) f1_micro: (test=0.859) recall_macro: (test=0.859) total time=   7.6s\n",
      "[CV 3/3] END C=0.001, dual=True, loss=hinge, max_iter=5000, penalty=l2; accuracy: (test=0.860) f1_micro: (test=0.860) recall_macro: (test=0.860) total time=   5.8s\n",
      "[CV 1/3] END C=0.001, dual=True, loss=squared_hinge, max_iter=1000, penalty=l1; accuracy: (test=0.000) f1_micro: (test=0.000) recall_macro: (test=0.000) total time=   2.7s\n",
      "[CV 2/3] END C=0.001, dual=True, loss=squared_hinge, max_iter=1000, penalty=l1; accuracy: (test=0.000) f1_micro: (test=0.000) recall_macro: (test=0.000) total time=   3.3s\n",
      "[CV 3/3] END C=0.001, dual=True, loss=squared_hinge, max_iter=1000, penalty=l1; accuracy: (test=0.000) f1_micro: (test=0.000) recall_macro: (test=0.000) total time=   4.0s\n",
      "[CV 1/3] END C=0.001, dual=True, loss=squared_hinge, max_iter=1000, penalty=l2; accuracy: (test=0.878) f1_micro: (test=0.878) recall_macro: (test=0.878) total time=   5.3s\n",
      "[CV 2/3] END C=0.001, dual=True, loss=squared_hinge, max_iter=1000, penalty=l2; accuracy: (test=0.878) f1_micro: (test=0.878) recall_macro: (test=0.878) total time=   5.3s\n",
      "[CV 3/3] END C=0.001, dual=True, loss=squared_hinge, max_iter=1000, penalty=l2; accuracy: (test=0.879) f1_micro: (test=0.879) recall_macro: (test=0.879) total time=   5.1s\n",
      "[CV 1/3] END C=0.001, dual=True, loss=squared_hinge, max_iter=3000, penalty=l1; accuracy: (test=0.000) f1_micro: (test=0.000) recall_macro: (test=0.000) total time=   3.0s\n",
      "[CV 2/3] END C=0.001, dual=True, loss=squared_hinge, max_iter=3000, penalty=l1; accuracy: (test=0.000) f1_micro: (test=0.000) recall_macro: (test=0.000) total time=   2.8s\n",
      "[CV 3/3] END C=0.001, dual=True, loss=squared_hinge, max_iter=3000, penalty=l1; accuracy: (test=0.000) f1_micro: (test=0.000) recall_macro: (test=0.000) total time=   2.7s\n",
      "[CV 1/3] END C=0.001, dual=True, loss=squared_hinge, max_iter=3000, penalty=l2; accuracy: (test=0.878) f1_micro: (test=0.878) recall_macro: (test=0.878) total time=   6.7s\n",
      "[CV 2/3] END C=0.001, dual=True, loss=squared_hinge, max_iter=3000, penalty=l2; accuracy: (test=0.878) f1_micro: (test=0.878) recall_macro: (test=0.878) total time=   5.7s\n",
      "[CV 3/3] END C=0.001, dual=True, loss=squared_hinge, max_iter=3000, penalty=l2; accuracy: (test=0.879) f1_micro: (test=0.879) recall_macro: (test=0.879) total time=   5.6s\n",
      "[CV 1/3] END C=0.001, dual=True, loss=squared_hinge, max_iter=5000, penalty=l1; accuracy: (test=0.000) f1_micro: (test=0.000) recall_macro: (test=0.000) total time=   2.7s\n",
      "[CV 2/3] END C=0.001, dual=True, loss=squared_hinge, max_iter=5000, penalty=l1; accuracy: (test=0.000) f1_micro: (test=0.000) recall_macro: (test=0.000) total time=   3.2s\n",
      "[CV 3/3] END C=0.001, dual=True, loss=squared_hinge, max_iter=5000, penalty=l1; accuracy: (test=0.000) f1_micro: (test=0.000) recall_macro: (test=0.000) total time=   2.8s\n",
      "[CV 1/3] END C=0.001, dual=True, loss=squared_hinge, max_iter=5000, penalty=l2; accuracy: (test=0.878) f1_micro: (test=0.878) recall_macro: (test=0.878) total time=   9.5s\n",
      "[CV 2/3] END C=0.001, dual=True, loss=squared_hinge, max_iter=5000, penalty=l2; accuracy: (test=0.878) f1_micro: (test=0.878) recall_macro: (test=0.878) total time=   8.4s\n",
      "[CV 3/3] END C=0.001, dual=True, loss=squared_hinge, max_iter=5000, penalty=l2; accuracy: (test=0.879) f1_micro: (test=0.879) recall_macro: (test=0.879) total time=   5.7s\n",
      "[CV 1/3] END C=0.025750000000000002, dual=True, loss=hinge, max_iter=1000, penalty=l1; accuracy: (test=0.000) f1_micro: (test=0.000) recall_macro: (test=0.000) total time=   2.2s\n",
      "[CV 2/3] END C=0.025750000000000002, dual=True, loss=hinge, max_iter=1000, penalty=l1; accuracy: (test=0.000) f1_micro: (test=0.000) recall_macro: (test=0.000) total time=   2.4s\n",
      "[CV 3/3] END C=0.025750000000000002, dual=True, loss=hinge, max_iter=1000, penalty=l1; accuracy: (test=0.000) f1_micro: (test=0.000) recall_macro: (test=0.000) total time=   2.1s\n",
      "[CV 1/3] END C=0.025750000000000002, dual=True, loss=hinge, max_iter=1000, penalty=l2; accuracy: (test=0.899) f1_micro: (test=0.899) recall_macro: (test=0.899) total time=   5.7s\n",
      "[CV 2/3] END C=0.025750000000000002, dual=True, loss=hinge, max_iter=1000, penalty=l2; accuracy: (test=0.899) f1_micro: (test=0.899) recall_macro: (test=0.899) total time=   5.5s\n",
      "[CV 3/3] END C=0.025750000000000002, dual=True, loss=hinge, max_iter=1000, penalty=l2; accuracy: (test=0.900) f1_micro: (test=0.900) recall_macro: (test=0.900) total time=   5.7s\n",
      "[CV 1/3] END C=0.025750000000000002, dual=True, loss=hinge, max_iter=3000, penalty=l1; accuracy: (test=0.000) f1_micro: (test=0.000) recall_macro: (test=0.000) total time=   2.3s\n",
      "[CV 2/3] END C=0.025750000000000002, dual=True, loss=hinge, max_iter=3000, penalty=l1; accuracy: (test=0.000) f1_micro: (test=0.000) recall_macro: (test=0.000) total time=   2.3s\n",
      "[CV 3/3] END C=0.025750000000000002, dual=True, loss=hinge, max_iter=3000, penalty=l1; accuracy: (test=0.000) f1_micro: (test=0.000) recall_macro: (test=0.000) total time=   2.6s\n",
      "[CV 1/3] END C=0.025750000000000002, dual=True, loss=hinge, max_iter=3000, penalty=l2; accuracy: (test=0.899) f1_micro: (test=0.899) recall_macro: (test=0.899) total time=   5.7s\n",
      "[CV 2/3] END C=0.025750000000000002, dual=True, loss=hinge, max_iter=3000, penalty=l2; accuracy: (test=0.899) f1_micro: (test=0.899) recall_macro: (test=0.899) total time=   5.7s\n",
      "[CV 3/3] END C=0.025750000000000002, dual=True, loss=hinge, max_iter=3000, penalty=l2; accuracy: (test=0.900) f1_micro: (test=0.900) recall_macro: (test=0.900) total time=   5.2s\n",
      "[CV 1/3] END C=0.025750000000000002, dual=True, loss=hinge, max_iter=5000, penalty=l1; accuracy: (test=0.000) f1_micro: (test=0.000) recall_macro: (test=0.000) total time=   2.8s\n",
      "[CV 2/3] END C=0.025750000000000002, dual=True, loss=hinge, max_iter=5000, penalty=l1; accuracy: (test=0.000) f1_micro: (test=0.000) recall_macro: (test=0.000) total time=   2.7s\n",
      "[CV 3/3] END C=0.025750000000000002, dual=True, loss=hinge, max_iter=5000, penalty=l1; accuracy: (test=0.000) f1_micro: (test=0.000) recall_macro: (test=0.000) total time=   3.9s\n",
      "[CV 1/3] END C=0.025750000000000002, dual=True, loss=hinge, max_iter=5000, penalty=l2; accuracy: (test=0.899) f1_micro: (test=0.899) recall_macro: (test=0.899) total time=   5.1s\n",
      "[CV 2/3] END C=0.025750000000000002, dual=True, loss=hinge, max_iter=5000, penalty=l2; accuracy: (test=0.899) f1_micro: (test=0.899) recall_macro: (test=0.899) total time=   5.4s\n",
      "[CV 3/3] END C=0.025750000000000002, dual=True, loss=hinge, max_iter=5000, penalty=l2; accuracy: (test=0.900) f1_micro: (test=0.900) recall_macro: (test=0.900) total time=   5.2s\n",
      "[CV 1/3] END C=0.025750000000000002, dual=True, loss=squared_hinge, max_iter=1000, penalty=l1; accuracy: (test=0.000) f1_micro: (test=0.000) recall_macro: (test=0.000) total time=   2.5s\n",
      "[CV 2/3] END C=0.025750000000000002, dual=True, loss=squared_hinge, max_iter=1000, penalty=l1; accuracy: (test=0.000) f1_micro: (test=0.000) recall_macro: (test=0.000) total time=   2.1s\n",
      "[CV 3/3] END C=0.025750000000000002, dual=True, loss=squared_hinge, max_iter=1000, penalty=l1; accuracy: (test=0.000) f1_micro: (test=0.000) recall_macro: (test=0.000) total time=   2.0s\n",
      "[CV 1/3] END C=0.025750000000000002, dual=True, loss=squared_hinge, max_iter=1000, penalty=l2; accuracy: (test=0.898) f1_micro: (test=0.898) recall_macro: (test=0.898) total time=   6.6s\n",
      "[CV 2/3] END C=0.025750000000000002, dual=True, loss=squared_hinge, max_iter=1000, penalty=l2; accuracy: (test=0.900) f1_micro: (test=0.900) recall_macro: (test=0.900) total time=   5.3s\n",
      "[CV 3/3] END C=0.025750000000000002, dual=True, loss=squared_hinge, max_iter=1000, penalty=l2; accuracy: (test=0.900) f1_micro: (test=0.900) recall_macro: (test=0.900) total time=   6.1s\n",
      "[CV 1/3] END C=0.025750000000000002, dual=True, loss=squared_hinge, max_iter=3000, penalty=l1; accuracy: (test=0.000) f1_micro: (test=0.000) recall_macro: (test=0.000) total time=   2.5s\n",
      "[CV 2/3] END C=0.025750000000000002, dual=True, loss=squared_hinge, max_iter=3000, penalty=l1; accuracy: (test=0.000) f1_micro: (test=0.000) recall_macro: (test=0.000) total time=   2.4s\n",
      "[CV 3/3] END C=0.025750000000000002, dual=True, loss=squared_hinge, max_iter=3000, penalty=l1; accuracy: (test=0.000) f1_micro: (test=0.000) recall_macro: (test=0.000) total time=   2.5s\n",
      "[CV 1/3] END C=0.025750000000000002, dual=True, loss=squared_hinge, max_iter=3000, penalty=l2; accuracy: (test=0.898) f1_micro: (test=0.898) recall_macro: (test=0.898) total time=   5.3s\n",
      "[CV 2/3] END C=0.025750000000000002, dual=True, loss=squared_hinge, max_iter=3000, penalty=l2; accuracy: (test=0.900) f1_micro: (test=0.900) recall_macro: (test=0.900) total time=   5.4s\n",
      "[CV 3/3] END C=0.025750000000000002, dual=True, loss=squared_hinge, max_iter=3000, penalty=l2; accuracy: (test=0.900) f1_micro: (test=0.900) recall_macro: (test=0.900) total time=   5.7s\n",
      "[CV 1/3] END C=0.025750000000000002, dual=True, loss=squared_hinge, max_iter=5000, penalty=l1; accuracy: (test=0.000) f1_micro: (test=0.000) recall_macro: (test=0.000) total time=   2.2s\n",
      "[CV 2/3] END C=0.025750000000000002, dual=True, loss=squared_hinge, max_iter=5000, penalty=l1; accuracy: (test=0.000) f1_micro: (test=0.000) recall_macro: (test=0.000) total time=   2.1s\n",
      "[CV 3/3] END C=0.025750000000000002, dual=True, loss=squared_hinge, max_iter=5000, penalty=l1; accuracy: (test=0.000) f1_micro: (test=0.000) recall_macro: (test=0.000) total time=   2.0s\n",
      "[CV 1/3] END C=0.025750000000000002, dual=True, loss=squared_hinge, max_iter=5000, penalty=l2; accuracy: (test=0.898) f1_micro: (test=0.898) recall_macro: (test=0.898) total time=   5.7s\n",
      "[CV 2/3] END C=0.025750000000000002, dual=True, loss=squared_hinge, max_iter=5000, penalty=l2; accuracy: (test=0.900) f1_micro: (test=0.900) recall_macro: (test=0.900) total time=   5.2s\n",
      "[CV 3/3] END C=0.025750000000000002, dual=True, loss=squared_hinge, max_iter=5000, penalty=l2; accuracy: (test=0.900) f1_micro: (test=0.900) recall_macro: (test=0.900) total time=   4.9s\n",
      "[CV 1/3] END C=0.0505, dual=True, loss=hinge, max_iter=1000, penalty=l1; accuracy: (test=0.000) f1_micro: (test=0.000) recall_macro: (test=0.000) total time=   2.1s\n",
      "[CV 2/3] END C=0.0505, dual=True, loss=hinge, max_iter=1000, penalty=l1; accuracy: (test=0.000) f1_micro: (test=0.000) recall_macro: (test=0.000) total time=   2.1s\n",
      "[CV 3/3] END C=0.0505, dual=True, loss=hinge, max_iter=1000, penalty=l1; accuracy: (test=0.000) f1_micro: (test=0.000) recall_macro: (test=0.000) total time=   2.0s\n"
     ]
    },
    {
     "name": "stderr",
     "output_type": "stream",
     "text": [
      "/home/habkaffee/.local/lib/python3.10/site-packages/sklearn/svm/_base.py:1250: ConvergenceWarning: Liblinear failed to converge, increase the number of iterations.\n",
      "  warnings.warn(\n"
     ]
    },
    {
     "name": "stdout",
     "output_type": "stream",
     "text": [
      "[CV 1/3] END C=0.0505, dual=True, loss=hinge, max_iter=1000, penalty=l2; accuracy: (test=0.900) f1_micro: (test=0.900) recall_macro: (test=0.900) total time=   5.6s\n",
      "[CV 2/3] END C=0.0505, dual=True, loss=hinge, max_iter=1000, penalty=l2; accuracy: (test=0.900) f1_micro: (test=0.900) recall_macro: (test=0.900) total time=   5.0s\n",
      "[CV 3/3] END C=0.0505, dual=True, loss=hinge, max_iter=1000, penalty=l2; accuracy: (test=0.901) f1_micro: (test=0.901) recall_macro: (test=0.901) total time=   5.4s\n",
      "[CV 1/3] END C=0.0505, dual=True, loss=hinge, max_iter=3000, penalty=l1; accuracy: (test=0.000) f1_micro: (test=0.000) recall_macro: (test=0.000) total time=   2.3s\n",
      "[CV 2/3] END C=0.0505, dual=True, loss=hinge, max_iter=3000, penalty=l1; accuracy: (test=0.000) f1_micro: (test=0.000) recall_macro: (test=0.000) total time=   2.2s\n",
      "[CV 3/3] END C=0.0505, dual=True, loss=hinge, max_iter=3000, penalty=l1; accuracy: (test=0.000) f1_micro: (test=0.000) recall_macro: (test=0.000) total time=   2.8s\n",
      "[CV 1/3] END C=0.0505, dual=True, loss=hinge, max_iter=3000, penalty=l2; accuracy: (test=0.900) f1_micro: (test=0.900) recall_macro: (test=0.900) total time=   5.6s\n",
      "[CV 2/3] END C=0.0505, dual=True, loss=hinge, max_iter=3000, penalty=l2; accuracy: (test=0.900) f1_micro: (test=0.900) recall_macro: (test=0.900) total time=   5.9s\n",
      "[CV 3/3] END C=0.0505, dual=True, loss=hinge, max_iter=3000, penalty=l2; accuracy: (test=0.901) f1_micro: (test=0.901) recall_macro: (test=0.901) total time=   5.4s\n",
      "[CV 1/3] END C=0.0505, dual=True, loss=hinge, max_iter=5000, penalty=l1; accuracy: (test=0.000) f1_micro: (test=0.000) recall_macro: (test=0.000) total time=   2.3s\n",
      "[CV 2/3] END C=0.0505, dual=True, loss=hinge, max_iter=5000, penalty=l1; accuracy: (test=0.000) f1_micro: (test=0.000) recall_macro: (test=0.000) total time=   2.9s\n",
      "[CV 3/3] END C=0.0505, dual=True, loss=hinge, max_iter=5000, penalty=l1; accuracy: (test=0.000) f1_micro: (test=0.000) recall_macro: (test=0.000) total time=   2.4s\n",
      "[CV 1/3] END C=0.0505, dual=True, loss=hinge, max_iter=5000, penalty=l2; accuracy: (test=0.900) f1_micro: (test=0.900) recall_macro: (test=0.900) total time=   5.9s\n",
      "[CV 2/3] END C=0.0505, dual=True, loss=hinge, max_iter=5000, penalty=l2; accuracy: (test=0.900) f1_micro: (test=0.900) recall_macro: (test=0.900) total time=   5.6s\n",
      "[CV 3/3] END C=0.0505, dual=True, loss=hinge, max_iter=5000, penalty=l2; accuracy: (test=0.901) f1_micro: (test=0.901) recall_macro: (test=0.901) total time=   5.4s\n",
      "[CV 1/3] END C=0.0505, dual=True, loss=squared_hinge, max_iter=1000, penalty=l1; accuracy: (test=0.000) f1_micro: (test=0.000) recall_macro: (test=0.000) total time=   3.0s\n",
      "[CV 2/3] END C=0.0505, dual=True, loss=squared_hinge, max_iter=1000, penalty=l1; accuracy: (test=0.000) f1_micro: (test=0.000) recall_macro: (test=0.000) total time=   2.8s\n",
      "[CV 3/3] END C=0.0505, dual=True, loss=squared_hinge, max_iter=1000, penalty=l1; accuracy: (test=0.000) f1_micro: (test=0.000) recall_macro: (test=0.000) total time=   2.5s\n",
      "[CV 1/3] END C=0.0505, dual=True, loss=squared_hinge, max_iter=1000, penalty=l2; accuracy: (test=0.896) f1_micro: (test=0.896) recall_macro: (test=0.896) total time=   6.5s\n",
      "[CV 2/3] END C=0.0505, dual=True, loss=squared_hinge, max_iter=1000, penalty=l2; accuracy: (test=0.899) f1_micro: (test=0.899) recall_macro: (test=0.899) total time=   5.4s\n",
      "[CV 3/3] END C=0.0505, dual=True, loss=squared_hinge, max_iter=1000, penalty=l2; accuracy: (test=0.900) f1_micro: (test=0.900) recall_macro: (test=0.900) total time=   7.2s\n",
      "[CV 1/3] END C=0.0505, dual=True, loss=squared_hinge, max_iter=3000, penalty=l1; accuracy: (test=0.000) f1_micro: (test=0.000) recall_macro: (test=0.000) total time=   2.6s\n",
      "[CV 2/3] END C=0.0505, dual=True, loss=squared_hinge, max_iter=3000, penalty=l1; accuracy: (test=0.000) f1_micro: (test=0.000) recall_macro: (test=0.000) total time=   2.5s\n",
      "[CV 3/3] END C=0.0505, dual=True, loss=squared_hinge, max_iter=3000, penalty=l1; accuracy: (test=0.000) f1_micro: (test=0.000) recall_macro: (test=0.000) total time=   2.8s\n",
      "[CV 1/3] END C=0.0505, dual=True, loss=squared_hinge, max_iter=3000, penalty=l2; accuracy: (test=0.896) f1_micro: (test=0.896) recall_macro: (test=0.896) total time=   6.8s\n",
      "[CV 2/3] END C=0.0505, dual=True, loss=squared_hinge, max_iter=3000, penalty=l2; accuracy: (test=0.899) f1_micro: (test=0.899) recall_macro: (test=0.899) total time=   5.6s\n",
      "[CV 3/3] END C=0.0505, dual=True, loss=squared_hinge, max_iter=3000, penalty=l2; accuracy: (test=0.900) f1_micro: (test=0.900) recall_macro: (test=0.900) total time=   7.0s\n",
      "[CV 1/3] END C=0.0505, dual=True, loss=squared_hinge, max_iter=5000, penalty=l1; accuracy: (test=0.000) f1_micro: (test=0.000) recall_macro: (test=0.000) total time=   2.5s\n",
      "[CV 2/3] END C=0.0505, dual=True, loss=squared_hinge, max_iter=5000, penalty=l1; accuracy: (test=0.000) f1_micro: (test=0.000) recall_macro: (test=0.000) total time=   2.4s\n",
      "[CV 3/3] END C=0.0505, dual=True, loss=squared_hinge, max_iter=5000, penalty=l1; accuracy: (test=0.000) f1_micro: (test=0.000) recall_macro: (test=0.000) total time=   2.5s\n",
      "[CV 1/3] END C=0.0505, dual=True, loss=squared_hinge, max_iter=5000, penalty=l2; accuracy: (test=0.896) f1_micro: (test=0.896) recall_macro: (test=0.896) total time=   5.8s\n",
      "[CV 2/3] END C=0.0505, dual=True, loss=squared_hinge, max_iter=5000, penalty=l2; accuracy: (test=0.899) f1_micro: (test=0.899) recall_macro: (test=0.899) total time=   6.3s\n",
      "[CV 3/3] END C=0.0505, dual=True, loss=squared_hinge, max_iter=5000, penalty=l2; accuracy: (test=0.900) f1_micro: (test=0.900) recall_macro: (test=0.900) total time=   5.3s\n",
      "[CV 1/3] END C=0.07525000000000001, dual=True, loss=hinge, max_iter=1000, penalty=l1; accuracy: (test=0.000) f1_micro: (test=0.000) recall_macro: (test=0.000) total time=   2.8s\n",
      "[CV 2/3] END C=0.07525000000000001, dual=True, loss=hinge, max_iter=1000, penalty=l1; accuracy: (test=0.000) f1_micro: (test=0.000) recall_macro: (test=0.000) total time=   3.4s\n",
      "[CV 3/3] END C=0.07525000000000001, dual=True, loss=hinge, max_iter=1000, penalty=l1; accuracy: (test=0.000) f1_micro: (test=0.000) recall_macro: (test=0.000) total time=   2.4s\n",
      "[CV 1/3] END C=0.07525000000000001, dual=True, loss=hinge, max_iter=1000, penalty=l2; accuracy: (test=0.898) f1_micro: (test=0.898) recall_macro: (test=0.898) total time=   5.3s\n"
     ]
    },
    {
     "name": "stderr",
     "output_type": "stream",
     "text": [
      "/home/habkaffee/.local/lib/python3.10/site-packages/sklearn/svm/_base.py:1250: ConvergenceWarning: Liblinear failed to converge, increase the number of iterations.\n",
      "  warnings.warn(\n"
     ]
    },
    {
     "name": "stdout",
     "output_type": "stream",
     "text": [
      "[CV 2/3] END C=0.07525000000000001, dual=True, loss=hinge, max_iter=1000, penalty=l2; accuracy: (test=0.900) f1_micro: (test=0.900) recall_macro: (test=0.900) total time=   5.4s\n",
      "[CV 3/3] END C=0.07525000000000001, dual=True, loss=hinge, max_iter=1000, penalty=l2; accuracy: (test=0.901) f1_micro: (test=0.901) recall_macro: (test=0.901) total time=   6.3s\n",
      "[CV 1/3] END C=0.07525000000000001, dual=True, loss=hinge, max_iter=3000, penalty=l1; accuracy: (test=0.000) f1_micro: (test=0.000) recall_macro: (test=0.000) total time=   2.2s\n",
      "[CV 2/3] END C=0.07525000000000001, dual=True, loss=hinge, max_iter=3000, penalty=l1; accuracy: (test=0.000) f1_micro: (test=0.000) recall_macro: (test=0.000) total time=   2.3s\n",
      "[CV 3/3] END C=0.07525000000000001, dual=True, loss=hinge, max_iter=3000, penalty=l1; accuracy: (test=0.000) f1_micro: (test=0.000) recall_macro: (test=0.000) total time=   2.5s\n",
      "[CV 1/3] END C=0.07525000000000001, dual=True, loss=hinge, max_iter=3000, penalty=l2; accuracy: (test=0.898) f1_micro: (test=0.898) recall_macro: (test=0.898) total time=   5.7s\n",
      "[CV 2/3] END C=0.07525000000000001, dual=True, loss=hinge, max_iter=3000, penalty=l2; accuracy: (test=0.900) f1_micro: (test=0.900) recall_macro: (test=0.900) total time=   5.2s\n",
      "[CV 3/3] END C=0.07525000000000001, dual=True, loss=hinge, max_iter=3000, penalty=l2; accuracy: (test=0.901) f1_micro: (test=0.901) recall_macro: (test=0.901) total time=   5.4s\n",
      "[CV 1/3] END C=0.07525000000000001, dual=True, loss=hinge, max_iter=5000, penalty=l1; accuracy: (test=0.000) f1_micro: (test=0.000) recall_macro: (test=0.000) total time=   2.2s\n",
      "[CV 2/3] END C=0.07525000000000001, dual=True, loss=hinge, max_iter=5000, penalty=l1; accuracy: (test=0.000) f1_micro: (test=0.000) recall_macro: (test=0.000) total time=   2.1s\n",
      "[CV 3/3] END C=0.07525000000000001, dual=True, loss=hinge, max_iter=5000, penalty=l1; accuracy: (test=0.000) f1_micro: (test=0.000) recall_macro: (test=0.000) total time=   2.1s\n",
      "[CV 1/3] END C=0.07525000000000001, dual=True, loss=hinge, max_iter=5000, penalty=l2; accuracy: (test=0.898) f1_micro: (test=0.898) recall_macro: (test=0.898) total time=   5.2s\n",
      "[CV 2/3] END C=0.07525000000000001, dual=True, loss=hinge, max_iter=5000, penalty=l2; accuracy: (test=0.900) f1_micro: (test=0.900) recall_macro: (test=0.900) total time=   5.1s\n",
      "[CV 3/3] END C=0.07525000000000001, dual=True, loss=hinge, max_iter=5000, penalty=l2; accuracy: (test=0.901) f1_micro: (test=0.901) recall_macro: (test=0.901) total time=   5.5s\n",
      "[CV 1/3] END C=0.07525000000000001, dual=True, loss=squared_hinge, max_iter=1000, penalty=l1; accuracy: (test=0.000) f1_micro: (test=0.000) recall_macro: (test=0.000) total time=   2.2s\n",
      "[CV 2/3] END C=0.07525000000000001, dual=True, loss=squared_hinge, max_iter=1000, penalty=l1; accuracy: (test=0.000) f1_micro: (test=0.000) recall_macro: (test=0.000) total time=   2.7s\n",
      "[CV 3/3] END C=0.07525000000000001, dual=True, loss=squared_hinge, max_iter=1000, penalty=l1; accuracy: (test=0.000) f1_micro: (test=0.000) recall_macro: (test=0.000) total time=   2.0s\n",
      "[CV 1/3] END C=0.07525000000000001, dual=True, loss=squared_hinge, max_iter=1000, penalty=l2; accuracy: (test=0.894) f1_micro: (test=0.894) recall_macro: (test=0.894) total time=   5.2s\n",
      "[CV 2/3] END C=0.07525000000000001, dual=True, loss=squared_hinge, max_iter=1000, penalty=l2; accuracy: (test=0.896) f1_micro: (test=0.896) recall_macro: (test=0.896) total time=   5.6s\n",
      "[CV 3/3] END C=0.07525000000000001, dual=True, loss=squared_hinge, max_iter=1000, penalty=l2; accuracy: (test=0.898) f1_micro: (test=0.898) recall_macro: (test=0.898) total time=   5.3s\n",
      "[CV 1/3] END C=0.07525000000000001, dual=True, loss=squared_hinge, max_iter=3000, penalty=l1; accuracy: (test=0.000) f1_micro: (test=0.000) recall_macro: (test=0.000) total time=   2.2s\n",
      "[CV 2/3] END C=0.07525000000000001, dual=True, loss=squared_hinge, max_iter=3000, penalty=l1; accuracy: (test=0.000) f1_micro: (test=0.000) recall_macro: (test=0.000) total time=   2.1s\n",
      "[CV 3/3] END C=0.07525000000000001, dual=True, loss=squared_hinge, max_iter=3000, penalty=l1; accuracy: (test=0.000) f1_micro: (test=0.000) recall_macro: (test=0.000) total time=   2.0s\n",
      "[CV 1/3] END C=0.07525000000000001, dual=True, loss=squared_hinge, max_iter=3000, penalty=l2; accuracy: (test=0.894) f1_micro: (test=0.894) recall_macro: (test=0.894) total time=   5.5s\n",
      "[CV 2/3] END C=0.07525000000000001, dual=True, loss=squared_hinge, max_iter=3000, penalty=l2; accuracy: (test=0.896) f1_micro: (test=0.896) recall_macro: (test=0.896) total time=   7.6s\n",
      "[CV 3/3] END C=0.07525000000000001, dual=True, loss=squared_hinge, max_iter=3000, penalty=l2; accuracy: (test=0.898) f1_micro: (test=0.898) recall_macro: (test=0.898) total time=   6.1s\n",
      "[CV 1/3] END C=0.07525000000000001, dual=True, loss=squared_hinge, max_iter=5000, penalty=l1; accuracy: (test=0.000) f1_micro: (test=0.000) recall_macro: (test=0.000) total time=   2.1s\n",
      "[CV 2/3] END C=0.07525000000000001, dual=True, loss=squared_hinge, max_iter=5000, penalty=l1; accuracy: (test=0.000) f1_micro: (test=0.000) recall_macro: (test=0.000) total time=   2.4s\n",
      "[CV 3/3] END C=0.07525000000000001, dual=True, loss=squared_hinge, max_iter=5000, penalty=l1; accuracy: (test=0.000) f1_micro: (test=0.000) recall_macro: (test=0.000) total time=   2.2s\n",
      "[CV 1/3] END C=0.07525000000000001, dual=True, loss=squared_hinge, max_iter=5000, penalty=l2; accuracy: (test=0.894) f1_micro: (test=0.894) recall_macro: (test=0.894) total time=   5.1s\n",
      "[CV 2/3] END C=0.07525000000000001, dual=True, loss=squared_hinge, max_iter=5000, penalty=l2; accuracy: (test=0.896) f1_micro: (test=0.896) recall_macro: (test=0.896) total time=   5.3s\n",
      "[CV 3/3] END C=0.07525000000000001, dual=True, loss=squared_hinge, max_iter=5000, penalty=l2; accuracy: (test=0.898) f1_micro: (test=0.898) recall_macro: (test=0.898) total time=   5.6s\n",
      "[CV 1/3] END C=0.1, dual=True, loss=hinge, max_iter=1000, penalty=l1; accuracy: (test=0.000) f1_micro: (test=0.000) recall_macro: (test=0.000) total time=   2.2s\n",
      "[CV 2/3] END C=0.1, dual=True, loss=hinge, max_iter=1000, penalty=l1; accuracy: (test=0.000) f1_micro: (test=0.000) recall_macro: (test=0.000) total time=   2.3s\n",
      "[CV 3/3] END C=0.1, dual=True, loss=hinge, max_iter=1000, penalty=l1; accuracy: (test=0.000) f1_micro: (test=0.000) recall_macro: (test=0.000) total time=   2.6s\n"
     ]
    },
    {
     "name": "stderr",
     "output_type": "stream",
     "text": [
      "/home/habkaffee/.local/lib/python3.10/site-packages/sklearn/svm/_base.py:1250: ConvergenceWarning: Liblinear failed to converge, increase the number of iterations.\n",
      "  warnings.warn(\n"
     ]
    },
    {
     "name": "stdout",
     "output_type": "stream",
     "text": [
      "[CV 1/3] END C=0.1, dual=True, loss=hinge, max_iter=1000, penalty=l2; accuracy: (test=0.898) f1_micro: (test=0.898) recall_macro: (test=0.898) total time=   6.5s\n",
      "[CV 2/3] END C=0.1, dual=True, loss=hinge, max_iter=1000, penalty=l2; accuracy: (test=0.900) f1_micro: (test=0.900) recall_macro: (test=0.900) total time=   5.5s\n"
     ]
    },
    {
     "name": "stderr",
     "output_type": "stream",
     "text": [
      "/home/habkaffee/.local/lib/python3.10/site-packages/sklearn/svm/_base.py:1250: ConvergenceWarning: Liblinear failed to converge, increase the number of iterations.\n",
      "  warnings.warn(\n"
     ]
    },
    {
     "name": "stdout",
     "output_type": "stream",
     "text": [
      "[CV 3/3] END C=0.1, dual=True, loss=hinge, max_iter=1000, penalty=l2; accuracy: (test=0.901) f1_micro: (test=0.901) recall_macro: (test=0.901) total time=   5.8s\n",
      "[CV 1/3] END C=0.1, dual=True, loss=hinge, max_iter=3000, penalty=l1; accuracy: (test=0.000) f1_micro: (test=0.000) recall_macro: (test=0.000) total time=   2.1s\n",
      "[CV 2/3] END C=0.1, dual=True, loss=hinge, max_iter=3000, penalty=l1; accuracy: (test=0.000) f1_micro: (test=0.000) recall_macro: (test=0.000) total time=   2.1s\n",
      "[CV 3/3] END C=0.1, dual=True, loss=hinge, max_iter=3000, penalty=l1; accuracy: (test=0.000) f1_micro: (test=0.000) recall_macro: (test=0.000) total time=   2.0s\n",
      "[CV 1/3] END C=0.1, dual=True, loss=hinge, max_iter=3000, penalty=l2; accuracy: (test=0.898) f1_micro: (test=0.898) recall_macro: (test=0.898) total time=   6.7s\n",
      "[CV 2/3] END C=0.1, dual=True, loss=hinge, max_iter=3000, penalty=l2; accuracy: (test=0.900) f1_micro: (test=0.900) recall_macro: (test=0.900) total time=   5.9s\n",
      "[CV 3/3] END C=0.1, dual=True, loss=hinge, max_iter=3000, penalty=l2; accuracy: (test=0.901) f1_micro: (test=0.901) recall_macro: (test=0.901) total time=   6.3s\n",
      "[CV 1/3] END C=0.1, dual=True, loss=hinge, max_iter=5000, penalty=l1; accuracy: (test=0.000) f1_micro: (test=0.000) recall_macro: (test=0.000) total time=   2.4s\n",
      "[CV 2/3] END C=0.1, dual=True, loss=hinge, max_iter=5000, penalty=l1; accuracy: (test=0.000) f1_micro: (test=0.000) recall_macro: (test=0.000) total time=   3.0s\n",
      "[CV 3/3] END C=0.1, dual=True, loss=hinge, max_iter=5000, penalty=l1; accuracy: (test=0.000) f1_micro: (test=0.000) recall_macro: (test=0.000) total time=   2.3s\n",
      "[CV 1/3] END C=0.1, dual=True, loss=hinge, max_iter=5000, penalty=l2; accuracy: (test=0.898) f1_micro: (test=0.898) recall_macro: (test=0.898) total time=   6.8s\n",
      "[CV 2/3] END C=0.1, dual=True, loss=hinge, max_iter=5000, penalty=l2; accuracy: (test=0.900) f1_micro: (test=0.900) recall_macro: (test=0.900) total time=   6.4s\n",
      "[CV 3/3] END C=0.1, dual=True, loss=hinge, max_iter=5000, penalty=l2; accuracy: (test=0.901) f1_micro: (test=0.901) recall_macro: (test=0.901) total time=   5.5s\n",
      "[CV 1/3] END C=0.1, dual=True, loss=squared_hinge, max_iter=1000, penalty=l1; accuracy: (test=0.000) f1_micro: (test=0.000) recall_macro: (test=0.000) total time=   2.2s\n",
      "[CV 2/3] END C=0.1, dual=True, loss=squared_hinge, max_iter=1000, penalty=l1; accuracy: (test=0.000) f1_micro: (test=0.000) recall_macro: (test=0.000) total time=   2.6s\n",
      "[CV 3/3] END C=0.1, dual=True, loss=squared_hinge, max_iter=1000, penalty=l1; accuracy: (test=0.000) f1_micro: (test=0.000) recall_macro: (test=0.000) total time=   2.9s\n",
      "[CV 1/3] END C=0.1, dual=True, loss=squared_hinge, max_iter=1000, penalty=l2; accuracy: (test=0.892) f1_micro: (test=0.892) recall_macro: (test=0.892) total time=   5.8s\n",
      "[CV 2/3] END C=0.1, dual=True, loss=squared_hinge, max_iter=1000, penalty=l2; accuracy: (test=0.895) f1_micro: (test=0.895) recall_macro: (test=0.895) total time=   5.5s\n",
      "[CV 3/3] END C=0.1, dual=True, loss=squared_hinge, max_iter=1000, penalty=l2; accuracy: (test=0.895) f1_micro: (test=0.895) recall_macro: (test=0.895) total time=   6.1s\n",
      "[CV 1/3] END C=0.1, dual=True, loss=squared_hinge, max_iter=3000, penalty=l1; accuracy: (test=0.000) f1_micro: (test=0.000) recall_macro: (test=0.000) total time=   2.1s\n",
      "[CV 2/3] END C=0.1, dual=True, loss=squared_hinge, max_iter=3000, penalty=l1; accuracy: (test=0.000) f1_micro: (test=0.000) recall_macro: (test=0.000) total time=   2.0s\n",
      "[CV 3/3] END C=0.1, dual=True, loss=squared_hinge, max_iter=3000, penalty=l1; accuracy: (test=0.000) f1_micro: (test=0.000) recall_macro: (test=0.000) total time=   2.4s\n",
      "[CV 1/3] END C=0.1, dual=True, loss=squared_hinge, max_iter=3000, penalty=l2; accuracy: (test=0.892) f1_micro: (test=0.892) recall_macro: (test=0.892) total time=   6.2s\n",
      "[CV 2/3] END C=0.1, dual=True, loss=squared_hinge, max_iter=3000, penalty=l2; accuracy: (test=0.895) f1_micro: (test=0.895) recall_macro: (test=0.895) total time=   5.6s\n",
      "[CV 3/3] END C=0.1, dual=True, loss=squared_hinge, max_iter=3000, penalty=l2; accuracy: (test=0.895) f1_micro: (test=0.895) recall_macro: (test=0.895) total time=   5.5s\n",
      "[CV 1/3] END C=0.1, dual=True, loss=squared_hinge, max_iter=5000, penalty=l1; accuracy: (test=0.000) f1_micro: (test=0.000) recall_macro: (test=0.000) total time=   2.2s\n",
      "[CV 2/3] END C=0.1, dual=True, loss=squared_hinge, max_iter=5000, penalty=l1; accuracy: (test=0.000) f1_micro: (test=0.000) recall_macro: (test=0.000) total time=   2.0s\n",
      "[CV 3/3] END C=0.1, dual=True, loss=squared_hinge, max_iter=5000, penalty=l1; accuracy: (test=0.000) f1_micro: (test=0.000) recall_macro: (test=0.000) total time=   2.6s\n",
      "[CV 1/3] END C=0.1, dual=True, loss=squared_hinge, max_iter=5000, penalty=l2; accuracy: (test=0.892) f1_micro: (test=0.892) recall_macro: (test=0.892) total time=   5.8s\n",
      "[CV 2/3] END C=0.1, dual=True, loss=squared_hinge, max_iter=5000, penalty=l2; accuracy: (test=0.895) f1_micro: (test=0.895) recall_macro: (test=0.895) total time=   5.6s\n",
      "[CV 3/3] END C=0.1, dual=True, loss=squared_hinge, max_iter=5000, penalty=l2; accuracy: (test=0.895) f1_micro: (test=0.895) recall_macro: (test=0.895) total time=   5.5s\n"
     ]
    },
    {
     "name": "stderr",
     "output_type": "stream",
     "text": [
      "/home/habkaffee/.local/lib/python3.10/site-packages/sklearn/model_selection/_validation.py:425: FitFailedWarning: \n",
      "90 fits failed out of a total of 180.\n",
      "The score on these train-test partitions for these parameters will be set to 0.\n",
      "If these failures are not expected, you can try to debug them by setting error_score='raise'.\n",
      "\n",
      "Below are more details about the failures:\n",
      "--------------------------------------------------------------------------------\n",
      "45 fits failed with the following error:\n",
      "Traceback (most recent call last):\n",
      "  File \"/home/habkaffee/.local/lib/python3.10/site-packages/sklearn/model_selection/_validation.py\", line 729, in _fit_and_score\n",
      "    estimator.fit(X_train, y_train, **fit_params)\n",
      "  File \"/home/habkaffee/.local/lib/python3.10/site-packages/sklearn/base.py\", line 1152, in wrapper\n",
      "    return fit_method(estimator, *args, **kwargs)\n",
      "  File \"/home/habkaffee/.local/lib/python3.10/site-packages/sklearn/svm/_classes.py\", line 326, in fit\n",
      "    self.coef_, self.intercept_, n_iter_ = _fit_liblinear(\n",
      "  File \"/home/habkaffee/.local/lib/python3.10/site-packages/sklearn/svm/_base.py\", line 1229, in _fit_liblinear\n",
      "    solver_type = _get_liblinear_solver_type(multi_class, penalty, loss, dual)\n",
      "  File \"/home/habkaffee/.local/lib/python3.10/site-packages/sklearn/svm/_base.py\", line 1060, in _get_liblinear_solver_type\n",
      "    raise ValueError(\n",
      "ValueError: Unsupported set of arguments: The combination of penalty='l1' and loss='hinge' is not supported, Parameters: penalty='l1', loss='hinge', dual=True\n",
      "\n",
      "--------------------------------------------------------------------------------\n",
      "45 fits failed with the following error:\n",
      "Traceback (most recent call last):\n",
      "  File \"/home/habkaffee/.local/lib/python3.10/site-packages/sklearn/model_selection/_validation.py\", line 729, in _fit_and_score\n",
      "    estimator.fit(X_train, y_train, **fit_params)\n",
      "  File \"/home/habkaffee/.local/lib/python3.10/site-packages/sklearn/base.py\", line 1152, in wrapper\n",
      "    return fit_method(estimator, *args, **kwargs)\n",
      "  File \"/home/habkaffee/.local/lib/python3.10/site-packages/sklearn/svm/_classes.py\", line 326, in fit\n",
      "    self.coef_, self.intercept_, n_iter_ = _fit_liblinear(\n",
      "  File \"/home/habkaffee/.local/lib/python3.10/site-packages/sklearn/svm/_base.py\", line 1229, in _fit_liblinear\n",
      "    solver_type = _get_liblinear_solver_type(multi_class, penalty, loss, dual)\n",
      "  File \"/home/habkaffee/.local/lib/python3.10/site-packages/sklearn/svm/_base.py\", line 1060, in _get_liblinear_solver_type\n",
      "    raise ValueError(\n",
      "ValueError: Unsupported set of arguments: The combination of penalty='l1' and loss='squared_hinge' are not supported when dual=True, Parameters: penalty='l1', loss='squared_hinge', dual=True\n",
      "\n",
      "  warnings.warn(some_fits_failed_message, FitFailedWarning)\n"
     ]
    },
    {
     "name": "stdout",
     "output_type": "stream",
     "text": [
      "Best estimator -> LinearSVC(C=0.0505, dual=True, loss='hinge')\n",
      "Best Score -> 0.9001444444444444\n",
      "Best Parameters -> {'C': 0.0505, 'dual': True, 'loss': 'hinge', 'max_iter': 1000, 'penalty': 'l2'}\n",
      "Best index -> 25\n"
     ]
    }
   ],
   "source": [
    "grid_linearSVC = get_gridsearch_for_model(LinearSVC(), parameters_linSVC)\n",
    "\n",
    "grid_linearSVC.fit(X_train, Y_train)\n",
    "print_grid_search_info(grid_linearSVC)"
   ]
  },
  {
   "cell_type": "code",
   "execution_count": 26,
   "metadata": {},
   "outputs": [
    {
     "name": "stdout",
     "output_type": "stream",
     "text": [
      "f1_micro = 0.9031333333333333\n",
      "recall_score = 0.9029243615170612\n",
      "precision_score = 0.9027782087428682\n"
     ]
    }
   ],
   "source": [
    "Y_pred_linSVC = grid_linearSVC.predict(X_test)\n",
    "print_metrics(Y_test, Y_pred_linSVC)\n",
    "save_model('./models/lemmat_lin_svc_trash.pkl', grid_linearSVC)"
   ]
  },
  {
   "cell_type": "code",
   "execution_count": 30,
   "metadata": {},
   "outputs": [],
   "source": [
    "CVect_digits = vectorizer.fit_transform(train_removed_digits_copy).toarray()"
   ]
  },
  {
   "cell_type": "code",
   "execution_count": 31,
   "metadata": {},
   "outputs": [],
   "source": [
    "X_train, X_test, Y_train, Y_test = train_test_split(CVect_digits, Y, test_size=0.25, random_state=seed)"
   ]
  },
  {
   "cell_type": "code",
   "execution_count": null,
   "metadata": {},
   "outputs": [],
   "source": [
    "grid_linearSVC = get_gridsearch_for_model(LinearSVC(), parameters_linSVC)\n",
    "\n",
    "grid_linearSVC.fit(X_train, Y_train)\n",
    "print_grid_search_info(grid_linearSVC)"
   ]
  },
  {
   "cell_type": "code",
   "execution_count": 33,
   "metadata": {},
   "outputs": [
    {
     "name": "stdout",
     "output_type": "stream",
     "text": [
      "f1_micro = 0.9043666666666667\n",
      "recall_score = 0.9041685957174672\n",
      "precision_score = 0.9040971142191401\n"
     ]
    }
   ],
   "source": [
    "Y_pred_linSVC = grid_linearSVC.predict(X_test)\n",
    "print_metrics(Y_test, Y_pred_linSVC)\n",
    "save_model('./models/lemmat_lin_svc_digits.pkl', grid_linearSVC)"
   ]
  },
  {
   "cell_type": "code",
   "execution_count": null,
   "metadata": {},
   "outputs": [],
   "source": []
  },
  {
   "cell_type": "code",
   "execution_count": 34,
   "metadata": {},
   "outputs": [],
   "source": [
    "vectorizer = TfidfVectorizer(stop_words=stop_words.get_stop_words(\"en\"), max_features=10000)"
   ]
  },
  {
   "cell_type": "code",
   "execution_count": 35,
   "metadata": {},
   "outputs": [],
   "source": [
    "Y = train_dataset[\"Class Index\"]\n",
    "seed = 42"
   ]
  },
  {
   "cell_type": "code",
   "execution_count": 36,
   "metadata": {},
   "outputs": [
    {
     "name": "stderr",
     "output_type": "stream",
     "text": [
      "/home/habkaffee/.local/lib/python3.10/site-packages/sklearn/feature_extraction/text.py:408: UserWarning: Your stop_words may be inconsistent with your preprocessing. Tokenizing the stop words generated tokens ['aren', 'can', 'couldn', 'didn', 'doesn', 'don', 'hadn', 'hasn', 'haven', 'isn', 'let', 'll', 'mustn', 're', 'shan', 'shouldn', 've', 'wasn', 'weren', 'won', 'wouldn'] not in stop_words.\n",
      "  warnings.warn(\n"
     ]
    }
   ],
   "source": [
    "TF_IDF_stopwords = vectorizer.fit_transform(train_removed_stopwords_copy).toarray()"
   ]
  },
  {
   "cell_type": "code",
   "execution_count": 37,
   "metadata": {},
   "outputs": [],
   "source": [
    "parameters_linSVC = {\n",
    "    'penalty': ['l1', 'l2'],\n",
    "    'loss': ['hinge', 'squared_hinge'],\n",
    "    'C': np.linspace(0.001, 0.1, 5),\n",
    "    'max_iter': [1000, 3000, 5000],\n",
    "    'dual':[True]\n",
    "}"
   ]
  },
  {
   "cell_type": "code",
   "execution_count": 38,
   "metadata": {},
   "outputs": [],
   "source": [
    "X_train, X_test, Y_train, Y_test = train_test_split(TF_IDF_stopwords, Y, test_size=0.25, random_state=seed)"
   ]
  },
  {
   "cell_type": "code",
   "execution_count": null,
   "metadata": {},
   "outputs": [],
   "source": [
    "grid_linearSVC = get_gridsearch_for_model(LinearSVC(), parameters_linSVC)\n",
    "\n",
    "grid_linearSVC.fit(X_train, Y_train)\n",
    "print_grid_search_info(grid_linearSVC)"
   ]
  },
  {
   "cell_type": "code",
   "execution_count": 40,
   "metadata": {},
   "outputs": [
    {
     "name": "stdout",
     "output_type": "stream",
     "text": [
      "f1_micro = 0.9052333333333333\n",
      "recall_score = 0.9050308774115083\n",
      "precision_score = 0.9048689336645132\n"
     ]
    }
   ],
   "source": [
    "Y_pred_linSVC = grid_linearSVC.predict(X_test)\n",
    "print_metrics(Y_test, Y_pred_linSVC)\n",
    "save_model('./models/lemmat_tfidf_lin_svc.pkl', grid_linearSVC)"
   ]
  },
  {
   "cell_type": "code",
   "execution_count": 41,
   "metadata": {},
   "outputs": [],
   "source": [
    "TF_IDF_trash = vectorizer.fit_transform(train_removed_trash_copy).toarray()"
   ]
  },
  {
   "cell_type": "code",
   "execution_count": 42,
   "metadata": {},
   "outputs": [],
   "source": [
    "X_train, X_test, Y_train, Y_test = train_test_split(TF_IDF_trash, Y, test_size=0.25, random_state=seed)"
   ]
  },
  {
   "cell_type": "code",
   "execution_count": null,
   "metadata": {},
   "outputs": [],
   "source": [
    "grid_linearSVC = get_gridsearch_for_model(LinearSVC(), parameters_linSVC)\n",
    "\n",
    "grid_linearSVC.fit(X_train, Y_train)\n",
    "print_grid_search_info(grid_linearSVC)"
   ]
  },
  {
   "cell_type": "code",
   "execution_count": 44,
   "metadata": {},
   "outputs": [
    {
     "name": "stdout",
     "output_type": "stream",
     "text": [
      "f1_micro = 0.9032333333333333\n",
      "recall_score = 0.9030318371101944\n",
      "precision_score = 0.9028357412750577\n"
     ]
    }
   ],
   "source": [
    "Y_pred_linSVC = grid_linearSVC.predict(X_test)\n",
    "print_metrics(Y_test, Y_pred_linSVC)\n",
    "save_model('./models/lemmat_tfidf_lin_svc_trash.pkl', grid_linearSVC)"
   ]
  },
  {
   "cell_type": "code",
   "execution_count": 45,
   "metadata": {},
   "outputs": [],
   "source": [
    "TF_IDF_digits = vectorizer.fit_transform(train_removed_digits_copy).toarray()"
   ]
  },
  {
   "cell_type": "code",
   "execution_count": 46,
   "metadata": {},
   "outputs": [],
   "source": [
    "X_train, X_test, Y_train, Y_test = train_test_split(TF_IDF_digits, Y, test_size=0.25, random_state=seed)"
   ]
  },
  {
   "cell_type": "code",
   "execution_count": null,
   "metadata": {},
   "outputs": [],
   "source": [
    "grid_linearSVC = get_gridsearch_for_model(LinearSVC(), parameters_linSVC)\n",
    "\n",
    "grid_linearSVC.fit(X_train, Y_train)\n",
    "print_grid_search_info(grid_linearSVC)"
   ]
  },
  {
   "cell_type": "code",
   "execution_count": 48,
   "metadata": {},
   "outputs": [
    {
     "name": "stdout",
     "output_type": "stream",
     "text": [
      "f1_micro = 0.9051\n",
      "recall_score = 0.904896421008043\n",
      "precision_score = 0.9047320676323019\n"
     ]
    }
   ],
   "source": [
    "Y_pred_linSVC = grid_linearSVC.predict(X_test)\n",
    "print_metrics(Y_test, Y_pred_linSVC)\n",
    "save_model('./models/lemmat_tfidf_lin_svc_digits.pkl', grid_linearSVC)"
   ]
  },
  {
   "cell_type": "markdown",
   "metadata": {},
   "source": [
    "## Stemming"
   ]
  },
  {
   "cell_type": "code",
   "execution_count": 17,
   "metadata": {},
   "outputs": [
    {
     "name": "stderr",
     "output_type": "stream",
     "text": [
      "[nltk_data] Downloading package stopwords to\n",
      "[nltk_data]     /home/habkaffee/nltk_data...\n",
      "[nltk_data]   Package stopwords is already up-to-date!\n"
     ]
    },
    {
     "data": {
      "text/plain": [
       "True"
      ]
     },
     "execution_count": 17,
     "metadata": {},
     "output_type": "execute_result"
    }
   ],
   "source": [
    "from nltk.stem.snowball import SnowballStemmer\n",
    "\n",
    "nltk.download('stopwords')\n"
   ]
  },
  {
   "cell_type": "code",
   "execution_count": 18,
   "metadata": {},
   "outputs": [],
   "source": [
    "stemmer = SnowballStemmer(\"english\", ignore_stopwords=True)"
   ]
  },
  {
   "cell_type": "code",
   "execution_count": 19,
   "metadata": {},
   "outputs": [],
   "source": [
    "train_removed_stopwords = [' '.join([stemmer.stem(word) for word in text.split()]) for text in train_removed_stopwords]\n",
    "\n",
    "train_removed_trash = [' '.join([stemmer.stem(word) for word in text.split()]) for text in train_removed_trash]\n",
    "\n",
    "train_removed_digits = [' '.join([stemmer.stem(word) for word in text.split()]) for text in train_removed_digits]\n"
   ]
  },
  {
   "cell_type": "code",
   "execution_count": 20,
   "metadata": {},
   "outputs": [],
   "source": [
    "vectorizer = CountVectorizer(stop_words=stop_words.get_stop_words('en'), max_features=10000)"
   ]
  },
  {
   "cell_type": "code",
   "execution_count": 21,
   "metadata": {},
   "outputs": [],
   "source": [
    "Y = train_dataset[\"Class Index\"]\n",
    "seed = 42"
   ]
  },
  {
   "cell_type": "code",
   "execution_count": 22,
   "metadata": {},
   "outputs": [
    {
     "name": "stderr",
     "output_type": "stream",
     "text": [
      "/home/habkaffee/.local/lib/python3.10/site-packages/sklearn/feature_extraction/text.py:408: UserWarning: Your stop_words may be inconsistent with your preprocessing. Tokenizing the stop words generated tokens ['aren', 'can', 'couldn', 'didn', 'doesn', 'don', 'hadn', 'hasn', 'haven', 'isn', 'let', 'll', 'mustn', 're', 'shan', 'shouldn', 've', 'wasn', 'weren', 'won', 'wouldn'] not in stop_words.\n",
      "  warnings.warn(\n"
     ]
    }
   ],
   "source": [
    "CVect_stopwords = vectorizer.fit_transform(train_removed_stopwords).toarray()"
   ]
  },
  {
   "cell_type": "code",
   "execution_count": 23,
   "metadata": {},
   "outputs": [],
   "source": [
    "X_train, X_test, Y_train, Y_test = train_test_split(CVect_stopwords, Y, test_size=0.25, random_state=seed)"
   ]
  },
  {
   "cell_type": "code",
   "execution_count": 24,
   "metadata": {},
   "outputs": [],
   "source": [
    "parameters_linSVC = {\n",
    "    'penalty': ['l1', 'l2'],\n",
    "    'loss': ['hinge', 'squared_hinge'],\n",
    "    'C': np.linspace(0.001, 0.1, 5),\n",
    "    'max_iter': [1000, 3000, 5000],\n",
    "    'dual':[True]\n",
    "}"
   ]
  },
  {
   "cell_type": "code",
   "execution_count": null,
   "metadata": {},
   "outputs": [],
   "source": [
    "grid_linearSVC = get_gridsearch_for_model(LinearSVC(), parameters_linSVC)\n",
    "\n",
    "grid_linearSVC.fit(X_train, Y_train)\n",
    "print_grid_search_info(grid_linearSVC)"
   ]
  },
  {
   "cell_type": "code",
   "execution_count": 26,
   "metadata": {},
   "outputs": [
    {
     "name": "stdout",
     "output_type": "stream",
     "text": [
      "f1_micro = 0.9054333333333333\n",
      "recall_score = 0.9052204725721449\n",
      "precision_score = 0.9051306886529678\n"
     ]
    }
   ],
   "source": [
    "Y_pred_linSVC = grid_linearSVC.predict(X_test)\n",
    "print_metrics(Y_test, Y_pred_linSVC)\n",
    "save_model('./models/lemmat_lin_svc.pkl', grid_linearSVC)"
   ]
  },
  {
   "cell_type": "code",
   "execution_count": 27,
   "metadata": {},
   "outputs": [],
   "source": [
    "CVect_trash = vectorizer.fit_transform(train_removed_trash).toarray()"
   ]
  },
  {
   "cell_type": "code",
   "execution_count": 28,
   "metadata": {},
   "outputs": [],
   "source": [
    "X_train, X_test, Y_train, Y_test = train_test_split(CVect_trash, Y, test_size=0.25, random_state=seed)"
   ]
  },
  {
   "cell_type": "code",
   "execution_count": null,
   "metadata": {},
   "outputs": [],
   "source": [
    "grid_linearSVC = get_gridsearch_for_model(LinearSVC(), parameters_linSVC)\n",
    "\n",
    "grid_linearSVC.fit(X_train, Y_train)\n",
    "print_grid_search_info(grid_linearSVC)"
   ]
  },
  {
   "cell_type": "code",
   "execution_count": 30,
   "metadata": {},
   "outputs": [
    {
     "name": "stdout",
     "output_type": "stream",
     "text": [
      "f1_micro = 0.9031333333333333\n",
      "recall_score = 0.9029339955089166\n",
      "precision_score = 0.9028637161310636\n"
     ]
    }
   ],
   "source": [
    "Y_pred_linSVC = grid_linearSVC.predict(X_test)\n",
    "print_metrics(Y_test, Y_pred_linSVC)\n",
    "save_model('./models/stem_lin_svc_trash.pkl', grid_linearSVC)"
   ]
  },
  {
   "cell_type": "code",
   "execution_count": 31,
   "metadata": {},
   "outputs": [],
   "source": [
    "CVect_digits = vectorizer.fit_transform(train_removed_digits).toarray()"
   ]
  },
  {
   "cell_type": "code",
   "execution_count": 32,
   "metadata": {},
   "outputs": [],
   "source": [
    "X_train, X_test, Y_train, Y_test = train_test_split(CVect_digits, Y, test_size=0.25, random_state=seed)"
   ]
  },
  {
   "cell_type": "code",
   "execution_count": null,
   "metadata": {},
   "outputs": [],
   "source": [
    "grid_linearSVC = get_gridsearch_for_model(LinearSVC(), parameters_linSVC)\n",
    "\n",
    "grid_linearSVC.fit(X_train, Y_train)\n",
    "print_grid_search_info(grid_linearSVC)"
   ]
  },
  {
   "cell_type": "code",
   "execution_count": 34,
   "metadata": {},
   "outputs": [
    {
     "name": "stdout",
     "output_type": "stream",
     "text": [
      "f1_micro = 0.9051666666666667\n",
      "recall_score = 0.9049585600507555\n",
      "precision_score = 0.9048495186429608\n"
     ]
    }
   ],
   "source": [
    "Y_pred_linSVC = grid_linearSVC.predict(X_test)\n",
    "print_metrics(Y_test, Y_pred_linSVC)\n",
    "save_model('./models/stem_lin_svc_digits.pkl', grid_linearSVC)"
   ]
  },
  {
   "cell_type": "code",
   "execution_count": null,
   "metadata": {},
   "outputs": [],
   "source": []
  },
  {
   "cell_type": "code",
   "execution_count": 35,
   "metadata": {},
   "outputs": [],
   "source": [
    "vectorizer = TfidfVectorizer(stop_words=stop_words.get_stop_words(\"en\"), max_features=10000)"
   ]
  },
  {
   "cell_type": "code",
   "execution_count": 36,
   "metadata": {},
   "outputs": [],
   "source": [
    "Y = train_dataset[\"Class Index\"]\n",
    "seed = 42"
   ]
  },
  {
   "cell_type": "code",
   "execution_count": 37,
   "metadata": {},
   "outputs": [
    {
     "name": "stderr",
     "output_type": "stream",
     "text": [
      "/home/habkaffee/.local/lib/python3.10/site-packages/sklearn/feature_extraction/text.py:408: UserWarning: Your stop_words may be inconsistent with your preprocessing. Tokenizing the stop words generated tokens ['aren', 'can', 'couldn', 'didn', 'doesn', 'don', 'hadn', 'hasn', 'haven', 'isn', 'let', 'll', 'mustn', 're', 'shan', 'shouldn', 've', 'wasn', 'weren', 'won', 'wouldn'] not in stop_words.\n",
      "  warnings.warn(\n"
     ]
    }
   ],
   "source": [
    "TF_IDF_stopwords = vectorizer.fit_transform(train_removed_stopwords).toarray()"
   ]
  },
  {
   "cell_type": "code",
   "execution_count": 38,
   "metadata": {},
   "outputs": [],
   "source": [
    "parameters_linSVC = {\n",
    "    'penalty': ['l1', 'l2'],\n",
    "    'loss': ['hinge', 'squared_hinge'],\n",
    "    'C': np.linspace(0.001, 0.1, 5),\n",
    "    'max_iter': [1000, 3000, 5000],\n",
    "    'dual':[True]\n",
    "}"
   ]
  },
  {
   "cell_type": "code",
   "execution_count": 39,
   "metadata": {},
   "outputs": [],
   "source": [
    "X_train, X_test, Y_train, Y_test = train_test_split(TF_IDF_stopwords, Y, test_size=0.25, random_state=seed)"
   ]
  },
  {
   "cell_type": "code",
   "execution_count": null,
   "metadata": {},
   "outputs": [],
   "source": [
    "grid_linearSVC = get_gridsearch_for_model(LinearSVC(), parameters_linSVC)\n",
    "\n",
    "grid_linearSVC.fit(X_train, Y_train)\n",
    "print_grid_search_info(grid_linearSVC)"
   ]
  },
  {
   "cell_type": "code",
   "execution_count": 41,
   "metadata": {},
   "outputs": [
    {
     "name": "stdout",
     "output_type": "stream",
     "text": [
      "f1_micro = 0.9047\n",
      "recall_score = 0.9044897923303211\n",
      "precision_score = 0.9042979141655177\n"
     ]
    }
   ],
   "source": [
    "Y_pred_linSVC = grid_linearSVC.predict(X_test)\n",
    "print_metrics(Y_test, Y_pred_linSVC)\n",
    "save_model('./models/stem_tfidf_lin_svc.pkl', grid_linearSVC)"
   ]
  },
  {
   "cell_type": "code",
   "execution_count": 42,
   "metadata": {},
   "outputs": [],
   "source": [
    "TF_IDF_trash = vectorizer.fit_transform(train_removed_trash).toarray()"
   ]
  },
  {
   "cell_type": "code",
   "execution_count": 43,
   "metadata": {},
   "outputs": [],
   "source": [
    "X_train, X_test, Y_train, Y_test = train_test_split(TF_IDF_trash, Y, test_size=0.25, random_state=seed)"
   ]
  },
  {
   "cell_type": "code",
   "execution_count": null,
   "metadata": {},
   "outputs": [],
   "source": [
    "grid_linearSVC = get_gridsearch_for_model(LinearSVC(), parameters_linSVC)\n",
    "\n",
    "grid_linearSVC.fit(X_train, Y_train)\n",
    "print_grid_search_info(grid_linearSVC)"
   ]
  },
  {
   "cell_type": "code",
   "execution_count": 45,
   "metadata": {},
   "outputs": [
    {
     "name": "stdout",
     "output_type": "stream",
     "text": [
      "f1_micro = 0.9018333333333334\n",
      "recall_score = 0.9016271360697213\n",
      "precision_score = 0.9014087459406611\n"
     ]
    }
   ],
   "source": [
    "Y_pred_linSVC = grid_linearSVC.predict(X_test)\n",
    "print_metrics(Y_test, Y_pred_linSVC)\n",
    "save_model('./models/stem_tfidf_lin_svc_trash.pkl', grid_linearSVC)"
   ]
  },
  {
   "cell_type": "code",
   "execution_count": 46,
   "metadata": {},
   "outputs": [],
   "source": [
    "TF_IDF_digits = vectorizer.fit_transform(train_removed_digits).toarray()"
   ]
  },
  {
   "cell_type": "code",
   "execution_count": 47,
   "metadata": {},
   "outputs": [],
   "source": [
    "X_train, X_test, Y_train, Y_test = train_test_split(TF_IDF_digits, Y, test_size=0.25, random_state=seed)"
   ]
  },
  {
   "cell_type": "code",
   "execution_count": null,
   "metadata": {},
   "outputs": [],
   "source": [
    "grid_linearSVC = get_gridsearch_for_model(LinearSVC(), parameters_linSVC)\n",
    "\n",
    "grid_linearSVC.fit(X_train, Y_train)\n",
    "print_grid_search_info(grid_linearSVC)"
   ]
  },
  {
   "cell_type": "code",
   "execution_count": 49,
   "metadata": {},
   "outputs": [
    {
     "name": "stdout",
     "output_type": "stream",
     "text": [
      "f1_micro = 0.9052333333333333\n",
      "recall_score = 0.9050254743336412\n",
      "precision_score = 0.9048591958377651\n"
     ]
    }
   ],
   "source": [
    "Y_pred_linSVC = grid_linearSVC.predict(X_test)\n",
    "print_metrics(Y_test, Y_pred_linSVC)\n",
    "save_model('./models/stem_tfidf_lin_svc_digits.pkl', grid_linearSVC)"
   ]
  },
  {
   "cell_type": "code",
   "execution_count": null,
   "metadata": {},
   "outputs": [],
   "source": []
  },
  {
   "cell_type": "markdown",
   "metadata": {},
   "source": [
    "# Comparison"
   ]
  },
  {
   "cell_type": "code",
   "execution_count": 17,
   "metadata": {},
   "outputs": [
    {
     "name": "stderr",
     "output_type": "stream",
     "text": [
      "/home/habkaffee/.local/lib/python3.10/site-packages/sklearn/feature_extraction/text.py:408: UserWarning: Your stop_words may be inconsistent with your preprocessing. Tokenizing the stop words generated tokens ['aren', 'can', 'couldn', 'didn', 'doesn', 'don', 'hadn', 'hasn', 'haven', 'isn', 'let', 'll', 'mustn', 're', 'shan', 'shouldn', 've', 'wasn', 'weren', 'won', 'wouldn'] not in stop_words.\n",
      "  warnings.warn(\n"
     ]
    }
   ],
   "source": [
    "# seed = 42\n",
    "# # vectorizer = TfidfVectorizer(stop_words=stop_words.get_stop_words(\"en\"), max_features=10000)\n",
    "# # TF_IDF_trash = vectorizer.fit_transform(train_removed_trash_copy).toarray()\n",
    "# vectorizer = CountVectorizer(stop_words=stop_words.get_stop_words('en'), max_features=10000)\n",
    "# # CVect_trash = vectorizer.fit_transform(train_removed_trash).toarray()\n",
    "\n",
    "# Y = train_dataset[\"Class Index\"]\n",
    "# vectorized = vectorizer.fit_transform(train_removed_trash).toarray()\n",
    "\n",
    "# X_train, X_test, Y_train, Y_test = train_test_split(vectorized, Y, test_size=0.25, random_state=seed)\n",
    "\n",
    "# # linSVC_best = load_model('./models/lemmat_tfidf_lin_svc_trash.pkl')\n",
    "# logreg = load_model('./models/log_reg_trash.pkl')\n",
    "\n",
    "# Y_pred_logreg = logreg.predict(X_test)"
   ]
  },
  {
   "cell_type": "code",
   "execution_count": 27,
   "metadata": {},
   "outputs": [],
   "source": [
    "def fill_metrix_df(metrix, name, f1_micro, recall, precision):\n",
    "    metrix[name] = [f1_micro, recall, precision]\n",
    "\n",
    "all_metrics_df = pd.DataFrame(index=['f1_micro', 'Recall', 'Precision'])\n",
    "\n",
    "fill_metrix_df(all_metrics_df, 'LinearSVC',\n",
    "                f1_score(Y_test, Y_pred_linSVC, average='micro'), \n",
    "                recall_score(Y_test, Y_pred_linSVC, average='macro'), \n",
    "                precision_score(Y_test, Y_pred_linSVC, average='macro'))"
   ]
  },
  {
   "attachments": {},
   "cell_type": "markdown",
   "metadata": {},
   "source": [
    "LinearSVC"
   ]
  },
  {
   "cell_type": "code",
   "execution_count": 28,
   "metadata": {},
   "outputs": [
    {
     "data": {
      "image/png": "[encoded data removed]",
      "text/plain": [
       "<Figure size 640x480 with 2 Axes>"
      ]
     },
     "metadata": {},
     "output_type": "display_data"
    }
   ],
   "source": [
    "display_conf_matrix(Y_test, Y_pred_linSVC, Y)"
   ]
  },
  {
   "attachments": {},
   "cell_type": "markdown",
   "metadata": {},
   "source": [
    "All metrics are displayed below"
   ]
  },
  {
   "cell_type": "code",
   "execution_count": 29,
   "metadata": {},
   "outputs": [
    {
     "data": {
      "text/html": [
       "<div>\n",
       "<style scoped>\n",
       "    .dataframe tbody tr th:only-of-type {\n",
       "        vertical-align: middle;\n",
       "    }\n",
       "\n",
       "    .dataframe tbody tr th {\n",
       "        vertical-align: top;\n",
       "    }\n",
       "\n",
       "    .dataframe thead th {\n",
       "        text-align: right;\n",
       "    }\n",
       "</style>\n",
       "<table border=\"1\" class=\"dataframe\">\n",
       "  <thead>\n",
       "    <tr style=\"text-align: right;\">\n",
       "      <th></th>\n",
       "      <th>LinearSVC</th>\n",
       "    </tr>\n",
       "  </thead>\n",
       "  <tbody>\n",
       "    <tr>\n",
       "      <th>f1_micro</th>\n",
       "      <td>0.903133</td>\n",
       "    </tr>\n",
       "    <tr>\n",
       "      <th>Recall</th>\n",
       "      <td>0.902924</td>\n",
       "    </tr>\n",
       "    <tr>\n",
       "      <th>Precision</th>\n",
       "      <td>0.902778</td>\n",
       "    </tr>\n",
       "  </tbody>\n",
       "</table>\n",
       "</div>"
      ],
      "text/plain": [
       "           LinearSVC\n",
       "f1_micro    0.903133\n",
       "Recall      0.902924\n",
       "Precision   0.902778"
      ]
     },
     "execution_count": 29,
     "metadata": {},
     "output_type": "execute_result"
    }
   ],
   "source": [
    "all_metrics_df"
   ]
  },
  {
   "cell_type": "code",
   "execution_count": 31,
   "metadata": {},
   "outputs": [
    {
     "data": {
      "text/html": [
       "<div>\n",
       "<style scoped>\n",
       "    .dataframe tbody tr th:only-of-type {\n",
       "        vertical-align: middle;\n",
       "    }\n",
       "\n",
       "    .dataframe tbody tr th {\n",
       "        vertical-align: top;\n",
       "    }\n",
       "\n",
       "    .dataframe thead th {\n",
       "        text-align: right;\n",
       "    }\n",
       "</style>\n",
       "<table border=\"1\" class=\"dataframe\">\n",
       "  <thead>\n",
       "    <tr style=\"text-align: right;\">\n",
       "      <th></th>\n",
       "      <th>0</th>\n",
       "    </tr>\n",
       "  </thead>\n",
       "  <tbody>\n",
       "    <tr>\n",
       "      <th>0</th>\n",
       "      <td>4</td>\n",
       "    </tr>\n",
       "    <tr>\n",
       "      <th>1</th>\n",
       "      <td>3</td>\n",
       "    </tr>\n",
       "    <tr>\n",
       "      <th>2</th>\n",
       "      <td>3</td>\n",
       "    </tr>\n",
       "    <tr>\n",
       "      <th>3</th>\n",
       "      <td>2</td>\n",
       "    </tr>\n",
       "    <tr>\n",
       "      <th>4</th>\n",
       "      <td>1</td>\n",
       "    </tr>\n",
       "    <tr>\n",
       "      <th>...</th>\n",
       "      <td>...</td>\n",
       "    </tr>\n",
       "    <tr>\n",
       "      <th>7595</th>\n",
       "      <td>4</td>\n",
       "    </tr>\n",
       "    <tr>\n",
       "      <th>7596</th>\n",
       "      <td>4</td>\n",
       "    </tr>\n",
       "    <tr>\n",
       "      <th>7597</th>\n",
       "      <td>3</td>\n",
       "    </tr>\n",
       "    <tr>\n",
       "      <th>7598</th>\n",
       "      <td>3</td>\n",
       "    </tr>\n",
       "    <tr>\n",
       "      <th>7599</th>\n",
       "      <td>2</td>\n",
       "    </tr>\n",
       "  </tbody>\n",
       "</table>\n",
       "<p>7600 rows × 1 columns</p>\n",
       "</div>"
      ],
      "text/plain": [
       "      0\n",
       "0     4\n",
       "1     3\n",
       "2     3\n",
       "3     2\n",
       "4     1\n",
       "...  ..\n",
       "7595  4\n",
       "7596  4\n",
       "7597  3\n",
       "7598  3\n",
       "7599  2\n",
       "\n",
       "[7600 rows x 1 columns]"
      ]
     },
     "execution_count": 31,
     "metadata": {},
     "output_type": "execute_result"
    }
   ],
   "source": [
    "data_to_submit = pd.read_csv('./data/test.csv')\n",
    "test_dataset_splitted_texts = [line.split('\\n') for line in data_to_submit['Description']]\n",
    "data_to_submit = [' '.join([word if word not in stop_words.get_stop_words('en') else '' for word in text]) for text in test_dataset_splitted_texts]\n",
    "vectorized_data = vectorizer.fit_transform(data_to_submit).toarray()\n",
    "# vectorized_data = vectorizer.fit_transform(data_to_submit).toarray()\n",
    "\n",
    "y_predicted = grid_linearSVC.predict(vectorized_data)\n",
    "with open(\"submission.csv\", 'w+') as f:\n",
    "    f.write(\"ID, Class Index\\n\") \n",
    "    for i, el in enumerate(y_predicted):\n",
    "        f.write(f'{i}, {el}\\n')\n",
    "\n",
    "pd.DataFrame(y_predicted)"
   ]
  },
  {
   "attachments": {},
   "cell_type": "markdown",
   "metadata": {},
   "source": [
    "### Summary"
   ]
  }
 ],
 "metadata": {
  "kernelspec": {
   "display_name": "Python 3 (ipykernel)",
   "language": "python",
   "name": "python3"
  },
  "language_info": {
   "codemirror_mode": {
    "name": "ipython",
    "version": 3
   },
   "file_extension": ".py",
   "mimetype": "text/x-python",
   "name": "python",
   "nbconvert_exporter": "python",
   "pygments_lexer": "ipython3",
   "version": "3.10.12"
  },
  "orig_nbformat": 4,
  "vscode": {
   "interpreter": {
    "hash": "e6463d715e1378e337fc3da88af56f170e8b2fc8216e6f94629c44ee68539bbe"
   }
  }
 },
 "nbformat": 4,
 "nbformat_minor": 2
}
